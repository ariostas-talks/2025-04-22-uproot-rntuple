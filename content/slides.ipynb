{
 "cells": [
  {
   "cell_type": "markdown",
   "id": "528a875d-bb52-4a34-8fa3-a48c8c19170a",
   "metadata": {
    "editable": true,
    "slideshow": {
     "slide_type": "skip"
    },
    "tags": []
   },
   "source": [
    "<pre> &#8593;&#8593;&#8593;&#8593;&#8593;&#8593;</pre>\n",
    "\n",
    "**To view this notebook as a slideshow click on the deck icon ![deck](https://raw.githubusercontent.com/deathbeds/jupyterlab-deck/main/docs/_static/deck.svg) above.**\n",
    "\n",
    "For a better slideshow experience, set font sizes to 24px by going to Settings -> Fonts -> Code/Content -> Size."
   ]
  },
  {
   "cell_type": "markdown",
   "id": "d21e3400-617c-44d5-b0c5-5f4bbcc1ec6f",
   "metadata": {
    "editable": true,
    "slideshow": {
     "slide_type": "slide"
    },
    "tags": []
   },
   "source": [
    "<center>\n",
    "<h1>Reading RNTuple data with Uproot</h1>\n",
    "<h2>Andres Rios-Tascon</h2>\n",
    "<h4>PyHEP 2024</h4>\n",
    "<img src=\"images/PU_lockup.png\" style=\"height:50px;\"/>&nbsp&nbsp&nbsp&nbsp&nbsp<img src=\"images/Iris-hep-4-no-long-name.png\" style=\"height:50px;\"/>\n",
    "</center>"
   ]
  },
  {
   "cell_type": "markdown",
   "id": "4f5e138f-91de-418c-94f4-585c53794134",
   "metadata": {
    "editable": true,
    "slideshow": {
     "slide_type": "slide"
    },
    "tags": []
   },
   "source": [
    "## Outline\n",
    "\n",
    "- Introduction and motivation for RNTuple.\n",
    "- Status of RNTuple support in Uproot.\n",
    "- Hands-on demo.\n",
    "- Future work and outlook"
   ]
  },
  {
   "cell_type": "markdown",
   "id": "5c10ee01-4923-47b5-86ad-ddf2372ea3d8",
   "metadata": {
    "editable": true,
    "slideshow": {
     "slide_type": "slide"
    },
    "tags": []
   },
   "source": [
    "## What is RNTuple and why should we care?"
   ]
  },
  {
   "cell_type": "markdown",
   "id": "8e8c0bfa-5061-4498-9318-ece0f6954721",
   "metadata": {
    "editable": true,
    "slideshow": {
     "slide_type": "fragment"
    },
    "tags": []
   },
   "source": [
    "- `RNTuple` is a modern serialization format that will replace `TTree`."
   ]
  },
  {
   "cell_type": "markdown",
   "id": "6df961fe-ccbb-496a-bdc7-5576545951b7",
   "metadata": {
    "editable": true,
    "slideshow": {
     "slide_type": "fragment"
    },
    "tags": []
   },
   "source": [
    "- `TTree` has become outdated and bloated.\n",
    "  - Inefficient storing and reading of nested and/or jagged collections.\n",
    "  - Lots of special cases and hacky implementations.\n",
    "  - Virtually impossible to fully support on `uproot`.\n",
    " \n",
    "<center><img src=\"images/ttree_current_status.svg\" style=\"height:400px;\"/></center>"
   ]
  },
  {
   "cell_type": "markdown",
   "id": "24a51e83-9bba-4ac3-8e9b-295ade290059",
   "metadata": {
    "editable": true,
    "slideshow": {
     "slide_type": "fragment"
    },
    "tags": []
   },
   "source": [
    "- `RNTuple` will bring many improvements.\n",
    "  - Simple and modern design (and has a formal spec).\n",
    "  - Focuses on native data types.\n",
    "  - Columnar layout very similar to `awkward`.\n",
    "  - Much faster performance and designed for parallelization.\n",
    "  - Simpler design should alow for almost 100% support on `uproot`."
   ]
  },
  {
   "attachments": {},
   "cell_type": "markdown",
   "id": "c29309c6-aa86-41df-9448-1867e49358dc",
   "metadata": {
    "editable": true,
    "slideshow": {
     "slide_type": "slide"
    },
    "tags": []
   },
   "source": [
    "## RNTuple performance comparison\n",
    "\n",
    "<br/>\n",
    "<br/>\n",
    "<br/>\n",
    "\n",
    "<center>\n",
    "<img src=\"images/rntuple_comparison.png\" style=\"height:200px;\"/>\n",
    "</center>\n",
    "\n",
    "<br/>\n",
    "<br/>\n",
    "<br/>\n",
    "\n",
    "Image taken from [arXiv:2204.09043](https://arxiv.org/abs/2204.09043)."
   ]
  },
  {
   "cell_type": "markdown",
   "id": "60f77439-594a-4a83-bf10-9f34cd649f03",
   "metadata": {
    "editable": true,
    "slideshow": {
     "slide_type": "slide"
    },
    "tags": []
   },
   "source": [
    "## RNTuple timeline\n",
    "\n",
    "<br/>\n",
    "<br/>\n",
    "<br/>\n",
    "\n",
    "<center>\n",
    "<img src=\"images/rntuple_timeline.png\" style=\"height:100px;\"/>\n",
    "</center>\n",
    "\n",
    "<br/>\n",
    "<br/>\n",
    "<br/>\n",
    "\n",
    "Image taken from <https://doi.org/10.1051/epjconf/202429506020>."
   ]
  },
  {
   "cell_type": "markdown",
   "id": "ca4550b1-2d4d-4101-9e42-152515fc6e57",
   "metadata": {
    "editable": true,
    "slideshow": {
     "slide_type": "fragment"
    },
    "tags": []
   },
   "source": [
    "**Version 1.0.0 of specification is expected to be done by the end of this year.**"
   ]
  },
  {
   "cell_type": "markdown",
   "id": "2a951aee-4f80-4d42-97e7-70d0d1908725",
   "metadata": {
    "editable": true,
    "slideshow": {
     "slide_type": "fragment"
    },
    "tags": []
   },
   "source": [
    "We expect to have most functionality working on `uproot` by the time this happens!"
   ]
  },
  {
   "cell_type": "markdown",
   "id": "02feb536-c83e-471b-bec2-9774e251ac01",
   "metadata": {
    "editable": true,
    "slideshow": {
     "slide_type": "slide"
    },
    "tags": []
   },
   "source": [
    "## RNTuple in Uproot"
   ]
  },
  {
   "cell_type": "markdown",
   "id": "e07854ea-98e0-48cf-b935-e04ad966b60a",
   "metadata": {
    "editable": true,
    "slideshow": {
     "slide_type": "fragment"
    },
    "tags": []
   },
   "source": [
    "- Initial implementation was written by Jerry Ling.\n",
    "  - Fairly complete reading support.\n",
    "  - Basic writing support."
   ]
  },
  {
   "cell_type": "markdown",
   "id": "c6bc4a27-975f-49b8-b7fa-9cb038b56fd4",
   "metadata": {
    "editable": true,
    "slideshow": {
     "slide_type": "fragment"
    },
    "tags": []
   },
   "source": [
    "- A significant update to the `RNTuple` spec was released earlier this year, which completely broke the existing implementation."
   ]
  },
  {
   "cell_type": "markdown",
   "id": "8894531b-1c88-4caf-967c-529474c57639",
   "metadata": {
    "editable": true,
    "slideshow": {
     "slide_type": "fragment"
    },
    "tags": []
   },
   "source": [
    "- We have fixed and reworked the reading functionality, adding new features from the spec.\n",
    "\n",
    "<center><img src=\"images/rntuple_current_status.svg\" style=\"height:400px;\"/></center>"
   ]
  },
  {
   "cell_type": "markdown",
   "id": "07a8d665-ad71-4672-96c5-a563736cce2b",
   "metadata": {
    "editable": true,
    "slideshow": {
     "slide_type": "fragment"
    },
    "tags": []
   },
   "source": [
    "- We are aiming to have the interface be the same as (or very similar to) the one for `TTree`."
   ]
  },
  {
   "cell_type": "markdown",
   "id": "bbcccd08-1360-4304-805b-e67628708a8f",
   "metadata": {
    "editable": true,
    "slideshow": {
     "slide_type": "slide"
    },
    "tags": []
   },
   "source": [
    "<center>\n",
    "<h2>Let's look at a concrete example</h2>\n",
    "</center>"
   ]
  },
  {
   "cell_type": "markdown",
   "id": "23b6e45b-34d9-4ad7-adf3-0c6de2473af0",
   "metadata": {
    "editable": true,
    "slideshow": {
     "slide_type": "slide"
    },
    "tags": []
   },
   "source": [
    "## Example RNTuple\n",
    "\n",
    "Let's consider an example<a name=\"cite_ref-1\"></a>[<sup>[1]</sup>](#cite_note-1) where we have the following data:\n",
    "\n",
    "| Trigger (bool) | Missing ET {float, float} | Lepton ids (vector) |\n",
    "| -------------- | ------------------------- | ------------------- |\n",
    "| False          | {et: 79.7, phi: 2.83}     | []                  |\n",
    "| True           | {et: 78, phi: 0.62}       | [11, -11]           |\n",
    "| False          | {et: 10, phi: -2.78}      | [-13, -11]          |\n",
    "| True           | {et: 14.3, phi: 1.31}     | [11, 11, -13]       |\n",
    "| True           | {et: 83.2, phi: 2.76}     | [11]                |\n",
    "\n",
    "<br/>\n",
    "<br/>\n",
    "\n",
    "<a name=\"cite_note-1\"></a>1. [^](#cite_ref-1) This example is based on [this talk](https://indico.cern.ch/event/1222943/) by Jerry Ling."
   ]
  },
  {
   "cell_type": "markdown",
   "id": "1fd0447a-f15f-4a32-b4b6-cb38f5c50c8f",
   "metadata": {
    "editable": true,
    "jp-MarkdownHeadingCollapsed": true,
    "slideshow": {
     "slide_type": "slide"
    },
    "tags": []
   },
   "source": [
    "## Data layout\n",
    "\n",
    "```mermaid\n",
    "flowchart BT\n",
    "    A[\\\"(top level)\"/]\n",
    "    B(\"trig (bool)\") --> A\n",
    "    C(\"met (struct)\") --> A\n",
    "    D(\"lep_pid (std::vector&lt;int&gt;)\") --> A\n",
    "    E[(\"column (data)\")] --> B\n",
    "    F(\"et (float)\") --> C\n",
    "    G(\"phi (float)\") --> C\n",
    "    H[(\"column (data)\")] --> F\n",
    "    I[(\"column (data)\")] --> G\n",
    "    J[(\"column (offset)\")] --> D\n",
    "    K(\"_0 (int)\") --> D\n",
    "    L[(\"column (data)\")] --> K\n",
    "```\n",
    "\n",
    "We will see that this very closely matches the data layout in `awkward`!"
   ]
  },
  {
   "cell_type": "markdown",
   "id": "cbc0f910-ae40-4bbf-8401-299bd300f1bf",
   "metadata": {
    "editable": true,
    "slideshow": {
     "slide_type": "slide"
    },
    "tags": []
   },
   "source": [
    "## ROOT code\n",
    "\n",
    "We can create an RNTuple with this data by using the following ROOT code."
   ]
  },
  {
   "cell_type": "code",
   "execution_count": 35,
   "id": "8d59bd69-30e7-4def-aa8e-9de99ce9c601",
   "metadata": {
    "editable": true,
    "slideshow": {
     "slide_type": "fragment"
    },
    "tags": []
   },
   "outputs": [
    {
     "data": {
      "text/html": [
       "<style>pre { line-height: 125%; }\n",
       "td.linenos .normal { color: inherit; background-color: transparent; padding-left: 5px; padding-right: 5px; }\n",
       "span.linenos { color: inherit; background-color: transparent; padding-left: 5px; padding-right: 5px; }\n",
       "td.linenos .special { color: #000000; background-color: #ffffc0; padding-left: 5px; padding-right: 5px; }\n",
       "span.linenos.special { color: #000000; background-color: #ffffc0; padding-left: 5px; padding-right: 5px; }\n",
       ".output_html .hll { background-color: #ffffcc }\n",
       ".output_html { background: #f8f8f8; }\n",
       ".output_html .c { color: #3D7B7B; font-style: italic } /* Comment */\n",
       ".output_html .err { border: 1px solid #FF0000 } /* Error */\n",
       ".output_html .k { color: #008000; font-weight: bold } /* Keyword */\n",
       ".output_html .o { color: #666666 } /* Operator */\n",
       ".output_html .ch { color: #3D7B7B; font-style: italic } /* Comment.Hashbang */\n",
       ".output_html .cm { color: #3D7B7B; font-style: italic } /* Comment.Multiline */\n",
       ".output_html .cp { color: #9C6500 } /* Comment.Preproc */\n",
       ".output_html .cpf { color: #3D7B7B; font-style: italic } /* Comment.PreprocFile */\n",
       ".output_html .c1 { color: #3D7B7B; font-style: italic } /* Comment.Single */\n",
       ".output_html .cs { color: #3D7B7B; font-style: italic } /* Comment.Special */\n",
       ".output_html .gd { color: #A00000 } /* Generic.Deleted */\n",
       ".output_html .ge { font-style: italic } /* Generic.Emph */\n",
       ".output_html .ges { font-weight: bold; font-style: italic } /* Generic.EmphStrong */\n",
       ".output_html .gr { color: #E40000 } /* Generic.Error */\n",
       ".output_html .gh { color: #000080; font-weight: bold } /* Generic.Heading */\n",
       ".output_html .gi { color: #008400 } /* Generic.Inserted */\n",
       ".output_html .go { color: #717171 } /* Generic.Output */\n",
       ".output_html .gp { color: #000080; font-weight: bold } /* Generic.Prompt */\n",
       ".output_html .gs { font-weight: bold } /* Generic.Strong */\n",
       ".output_html .gu { color: #800080; font-weight: bold } /* Generic.Subheading */\n",
       ".output_html .gt { color: #0044DD } /* Generic.Traceback */\n",
       ".output_html .kc { color: #008000; font-weight: bold } /* Keyword.Constant */\n",
       ".output_html .kd { color: #008000; font-weight: bold } /* Keyword.Declaration */\n",
       ".output_html .kn { color: #008000; font-weight: bold } /* Keyword.Namespace */\n",
       ".output_html .kp { color: #008000 } /* Keyword.Pseudo */\n",
       ".output_html .kr { color: #008000; font-weight: bold } /* Keyword.Reserved */\n",
       ".output_html .kt { color: #B00040 } /* Keyword.Type */\n",
       ".output_html .m { color: #666666 } /* Literal.Number */\n",
       ".output_html .s { color: #BA2121 } /* Literal.String */\n",
       ".output_html .na { color: #687822 } /* Name.Attribute */\n",
       ".output_html .nb { color: #008000 } /* Name.Builtin */\n",
       ".output_html .nc { color: #0000FF; font-weight: bold } /* Name.Class */\n",
       ".output_html .no { color: #880000 } /* Name.Constant */\n",
       ".output_html .nd { color: #AA22FF } /* Name.Decorator */\n",
       ".output_html .ni { color: #717171; font-weight: bold } /* Name.Entity */\n",
       ".output_html .ne { color: #CB3F38; font-weight: bold } /* Name.Exception */\n",
       ".output_html .nf { color: #0000FF } /* Name.Function */\n",
       ".output_html .nl { color: #767600 } /* Name.Label */\n",
       ".output_html .nn { color: #0000FF; font-weight: bold } /* Name.Namespace */\n",
       ".output_html .nt { color: #008000; font-weight: bold } /* Name.Tag */\n",
       ".output_html .nv { color: #19177C } /* Name.Variable */\n",
       ".output_html .ow { color: #AA22FF; font-weight: bold } /* Operator.Word */\n",
       ".output_html .w { color: #bbbbbb } /* Text.Whitespace */\n",
       ".output_html .mb { color: #666666 } /* Literal.Number.Bin */\n",
       ".output_html .mf { color: #666666 } /* Literal.Number.Float */\n",
       ".output_html .mh { color: #666666 } /* Literal.Number.Hex */\n",
       ".output_html .mi { color: #666666 } /* Literal.Number.Integer */\n",
       ".output_html .mo { color: #666666 } /* Literal.Number.Oct */\n",
       ".output_html .sa { color: #BA2121 } /* Literal.String.Affix */\n",
       ".output_html .sb { color: #BA2121 } /* Literal.String.Backtick */\n",
       ".output_html .sc { color: #BA2121 } /* Literal.String.Char */\n",
       ".output_html .dl { color: #BA2121 } /* Literal.String.Delimiter */\n",
       ".output_html .sd { color: #BA2121; font-style: italic } /* Literal.String.Doc */\n",
       ".output_html .s2 { color: #BA2121 } /* Literal.String.Double */\n",
       ".output_html .se { color: #AA5D1F; font-weight: bold } /* Literal.String.Escape */\n",
       ".output_html .sh { color: #BA2121 } /* Literal.String.Heredoc */\n",
       ".output_html .si { color: #A45A77; font-weight: bold } /* Literal.String.Interpol */\n",
       ".output_html .sx { color: #008000 } /* Literal.String.Other */\n",
       ".output_html .sr { color: #A45A77 } /* Literal.String.Regex */\n",
       ".output_html .s1 { color: #BA2121 } /* Literal.String.Single */\n",
       ".output_html .ss { color: #19177C } /* Literal.String.Symbol */\n",
       ".output_html .bp { color: #008000 } /* Name.Builtin.Pseudo */\n",
       ".output_html .fm { color: #0000FF } /* Name.Function.Magic */\n",
       ".output_html .vc { color: #19177C } /* Name.Variable.Class */\n",
       ".output_html .vg { color: #19177C } /* Name.Variable.Global */\n",
       ".output_html .vi { color: #19177C } /* Name.Variable.Instance */\n",
       ".output_html .vm { color: #19177C } /* Name.Variable.Magic */\n",
       ".output_html .il { color: #666666 } /* Literal.Number.Integer.Long */</style><div class=\"highlight\"><pre><span></span><span class=\"cp\">#include</span><span class=\"w\"> </span><span class=\"cpf\">&lt;ROOT/RNTupleModel.hxx&gt;</span>\n",
       "<span class=\"cp\">#include</span><span class=\"w\"> </span><span class=\"cpf\">&lt;ROOT/RNTupleWriter.hxx&gt;</span>\n",
       "<span class=\"w\"> </span>\n",
       "<span class=\"cp\">#include</span><span class=\"w\"> </span><span class=\"cpf\">&lt;TMath.h&gt;</span>\n",
       "<span class=\"cp\">#include</span><span class=\"w\"> </span><span class=\"cpf\">&lt;TRandom.h&gt;</span>\n",
       "<span class=\"cp\">#include</span><span class=\"w\"> </span><span class=\"cpf\">&lt;TSystem.h&gt;</span>\n",
       "<span class=\"w\"> </span>\n",
       "<span class=\"cp\">#include</span><span class=\"w\"> </span><span class=\"cpf\">&lt;cstdio&gt;</span>\n",
       "<span class=\"cp\">#include</span><span class=\"w\"> </span><span class=\"cpf\">&lt;iostream&gt;</span>\n",
       "<span class=\"cp\">#include</span><span class=\"w\"> </span><span class=\"cpf\">&lt;memory&gt;</span>\n",
       "<span class=\"cp\">#include</span><span class=\"w\"> </span><span class=\"cpf\">&lt;vector&gt;</span>\n",
       "<span class=\"cp\">#include</span><span class=\"w\"> </span><span class=\"cpf\">&lt;utility&gt;</span>\n",
       "<span class=\"w\"> </span>\n",
       "<span class=\"k\">using</span><span class=\"w\"> </span><span class=\"n\">RNTupleModel</span><span class=\"w\"> </span><span class=\"o\">=</span><span class=\"w\"> </span><span class=\"n\">ROOT</span><span class=\"o\">::</span><span class=\"n\">Experimental</span><span class=\"o\">::</span><span class=\"n\">RNTupleModel</span><span class=\"p\">;</span>\n",
       "<span class=\"k\">using</span><span class=\"w\"> </span><span class=\"n\">RNTupleWriter</span><span class=\"w\"> </span><span class=\"o\">=</span><span class=\"w\"> </span><span class=\"n\">ROOT</span><span class=\"o\">::</span><span class=\"n\">Experimental</span><span class=\"o\">::</span><span class=\"n\">RNTupleWriter</span><span class=\"p\">;</span>\n",
       "<span class=\"w\"> </span>\n",
       "<span class=\"k\">constexpr</span><span class=\"w\"> </span><span class=\"kt\">char</span><span class=\"w\"> </span><span class=\"k\">const</span><span class=\"o\">*</span><span class=\"w\"> </span><span class=\"n\">kNTupleFileName</span><span class=\"w\"> </span><span class=\"o\">=</span><span class=\"w\"> </span><span class=\"s\">&quot;example_rntuple.root&quot;</span><span class=\"p\">;</span>\n",
       "<span class=\"k\">constexpr</span><span class=\"w\"> </span><span class=\"kt\">int</span><span class=\"w\"> </span><span class=\"n\">kNEvents</span><span class=\"w\"> </span><span class=\"o\">=</span><span class=\"w\"> </span><span class=\"mi\">5</span><span class=\"p\">;</span>\n",
       "<span class=\"k\">constexpr</span><span class=\"w\"> </span><span class=\"kt\">int</span><span class=\"w\"> </span><span class=\"n\">lepIds</span><span class=\"p\">[</span><span class=\"mi\">4</span><span class=\"p\">]</span><span class=\"w\"> </span><span class=\"o\">=</span><span class=\"w\"> </span><span class=\"p\">{</span><span class=\"mi\">11</span><span class=\"p\">,</span><span class=\"w\"> </span><span class=\"mi\">-11</span><span class=\"p\">,</span><span class=\"w\"> </span><span class=\"mi\">13</span><span class=\"p\">,</span><span class=\"w\"> </span><span class=\"mi\">-13</span><span class=\"p\">};</span>\n",
       "\n",
       "<span class=\"k\">struct</span><span class=\"w\"> </span><span class=\"nc\">MET</span><span class=\"w\"> </span><span class=\"p\">{</span>\n",
       "<span class=\"w\">   </span><span class=\"kt\">float</span><span class=\"w\"> </span><span class=\"n\">et</span><span class=\"p\">;</span>\n",
       "<span class=\"w\">   </span><span class=\"kt\">float</span><span class=\"w\"> </span><span class=\"n\">phi</span><span class=\"p\">;</span>\n",
       "<span class=\"p\">};</span>\n",
       "<span class=\"w\"> </span>\n",
       "<span class=\"kt\">void</span><span class=\"w\"> </span><span class=\"nf\">example_rntuple</span><span class=\"p\">()</span>\n",
       "<span class=\"p\">{</span>\n",
       "<span class=\"w\">   </span><span class=\"k\">auto</span><span class=\"w\"> </span><span class=\"n\">model</span><span class=\"w\"> </span><span class=\"o\">=</span><span class=\"w\"> </span><span class=\"n\">RNTupleModel</span><span class=\"o\">::</span><span class=\"n\">Create</span><span class=\"p\">();</span>\n",
       "<span class=\"w\"> </span>\n",
       "<span class=\"w\">   </span><span class=\"k\">auto</span><span class=\"w\"> </span><span class=\"n\">fldTrig</span><span class=\"w\">   </span><span class=\"o\">=</span><span class=\"w\"> </span><span class=\"n\">model</span><span class=\"o\">-&gt;</span><span class=\"n\">MakeField</span><span class=\"o\">&lt;</span><span class=\"kt\">bool</span><span class=\"o\">&gt;</span><span class=\"p\">(</span><span class=\"s\">&quot;trig&quot;</span><span class=\"p\">);</span>\n",
       "<span class=\"w\">   </span><span class=\"k\">auto</span><span class=\"w\"> </span><span class=\"n\">fldMET</span><span class=\"w\">    </span><span class=\"o\">=</span><span class=\"w\"> </span><span class=\"n\">model</span><span class=\"o\">-&gt;</span><span class=\"n\">MakeField</span><span class=\"o\">&lt;</span><span class=\"n\">MET</span><span class=\"o\">&gt;</span><span class=\"p\">(</span><span class=\"s\">&quot;met&quot;</span><span class=\"p\">);</span>\n",
       "<span class=\"w\">   </span><span class=\"k\">auto</span><span class=\"w\"> </span><span class=\"n\">fldLepPid</span><span class=\"w\"> </span><span class=\"o\">=</span><span class=\"w\"> </span><span class=\"n\">model</span><span class=\"o\">-&gt;</span><span class=\"n\">MakeField</span><span class=\"o\">&lt;</span><span class=\"n\">std</span><span class=\"o\">::</span><span class=\"n\">vector</span><span class=\"o\">&lt;</span><span class=\"kt\">int</span><span class=\"o\">&gt;&gt;</span><span class=\"p\">(</span><span class=\"s\">&quot;lep_pid&quot;</span><span class=\"p\">);</span>\n",
       "<span class=\"w\"> </span>\n",
       "<span class=\"w\">   </span><span class=\"k\">auto</span><span class=\"w\"> </span><span class=\"n\">ntuple</span><span class=\"w\"> </span><span class=\"o\">=</span><span class=\"w\"> </span><span class=\"n\">RNTupleWriter</span><span class=\"o\">::</span><span class=\"n\">Recreate</span><span class=\"p\">(</span><span class=\"n\">std</span><span class=\"o\">::</span><span class=\"n\">move</span><span class=\"p\">(</span><span class=\"n\">model</span><span class=\"p\">),</span><span class=\"w\"> </span><span class=\"s\">&quot;ntpl&quot;</span><span class=\"p\">,</span><span class=\"w\"> </span><span class=\"n\">kNTupleFileName</span><span class=\"p\">);</span>\n",
       "<span class=\"w\"> </span>\n",
       "<span class=\"w\">   </span><span class=\"n\">gRandom</span><span class=\"o\">-&gt;</span><span class=\"n\">SetSeed</span><span class=\"p\">(</span><span class=\"mi\">42</span><span class=\"p\">);</span>\n",
       "<span class=\"w\">   </span><span class=\"k\">for</span><span class=\"w\"> </span><span class=\"p\">(</span><span class=\"kt\">int</span><span class=\"w\"> </span><span class=\"n\">i</span><span class=\"w\"> </span><span class=\"o\">=</span><span class=\"w\"> </span><span class=\"mi\">0</span><span class=\"p\">;</span><span class=\"w\"> </span><span class=\"n\">i</span><span class=\"w\"> </span><span class=\"o\">&lt;</span><span class=\"w\"> </span><span class=\"n\">kNEvents</span><span class=\"p\">;</span><span class=\"w\"> </span><span class=\"n\">i</span><span class=\"o\">++</span><span class=\"p\">)</span><span class=\"w\"> </span><span class=\"p\">{</span>\n",
       "<span class=\"w\">      </span><span class=\"o\">*</span><span class=\"n\">fldTrig</span><span class=\"w\"> </span><span class=\"o\">=</span><span class=\"w\"> </span><span class=\"n\">gRandom</span><span class=\"o\">-&gt;</span><span class=\"n\">Rndm</span><span class=\"p\">()</span><span class=\"w\"> </span><span class=\"o\">&gt;</span><span class=\"w\"> </span><span class=\"mf\">0.5</span><span class=\"p\">;</span>\n",
       "\n",
       "<span class=\"w\">      </span><span class=\"n\">fldMET</span><span class=\"o\">-&gt;</span><span class=\"n\">et</span><span class=\"w\">   </span><span class=\"o\">=</span><span class=\"w\"> </span><span class=\"n\">gRandom</span><span class=\"o\">-&gt;</span><span class=\"n\">Rndm</span><span class=\"p\">()</span><span class=\"o\">*</span><span class=\"mi\">100</span><span class=\"p\">;</span>\n",
       "<span class=\"w\">      </span><span class=\"n\">fldMET</span><span class=\"o\">-&gt;</span><span class=\"n\">phi</span><span class=\"w\">  </span><span class=\"o\">=</span><span class=\"w\"> </span><span class=\"p\">(</span><span class=\"mi\">2</span><span class=\"o\">*</span><span class=\"n\">gRandom</span><span class=\"o\">-&gt;</span><span class=\"n\">Rndm</span><span class=\"p\">()</span><span class=\"w\"> </span><span class=\"o\">-</span><span class=\"w\"> </span><span class=\"mi\">1</span><span class=\"p\">)</span><span class=\"o\">*</span><span class=\"n\">TMath</span><span class=\"o\">::</span><span class=\"n\">Pi</span><span class=\"p\">();</span>\n",
       "<span class=\"w\"> </span>\n",
       "<span class=\"w\">      </span><span class=\"n\">fldLepPid</span><span class=\"o\">-&gt;</span><span class=\"n\">clear</span><span class=\"p\">();</span>\n",
       "<span class=\"w\">      </span><span class=\"kt\">int</span><span class=\"w\"> </span><span class=\"n\">nlep</span><span class=\"w\"> </span><span class=\"o\">=</span><span class=\"w\"> </span><span class=\"n\">gRandom</span><span class=\"o\">-&gt;</span><span class=\"n\">Integer</span><span class=\"p\">(</span><span class=\"mi\">5</span><span class=\"p\">);</span>\n",
       "<span class=\"w\">      </span><span class=\"k\">for</span><span class=\"w\"> </span><span class=\"p\">(</span><span class=\"kt\">int</span><span class=\"w\"> </span><span class=\"n\">j</span><span class=\"w\"> </span><span class=\"o\">=</span><span class=\"w\"> </span><span class=\"mi\">0</span><span class=\"p\">;</span><span class=\"w\"> </span><span class=\"n\">j</span><span class=\"w\"> </span><span class=\"o\">&lt;</span><span class=\"w\"> </span><span class=\"n\">nlep</span><span class=\"p\">;</span><span class=\"w\"> </span><span class=\"o\">++</span><span class=\"n\">j</span><span class=\"p\">)</span><span class=\"w\"> </span><span class=\"p\">{</span>\n",
       "<span class=\"w\">         </span><span class=\"n\">fldLepPid</span><span class=\"o\">-&gt;</span><span class=\"n\">emplace_back</span><span class=\"p\">(</span><span class=\"n\">lepIds</span><span class=\"p\">[</span><span class=\"n\">gRandom</span><span class=\"o\">-&gt;</span><span class=\"n\">Integer</span><span class=\"p\">(</span><span class=\"mi\">4</span><span class=\"p\">)]);</span>\n",
       "\n",
       "<span class=\"w\">      </span><span class=\"p\">}</span>\n",
       "<span class=\"w\"> </span>\n",
       "<span class=\"w\">      </span><span class=\"n\">ntuple</span><span class=\"o\">-&gt;</span><span class=\"n\">Fill</span><span class=\"p\">();</span>\n",
       "<span class=\"w\">   </span><span class=\"p\">}</span>\n",
       "<span class=\"p\">}</span>\n",
       "</pre></div>\n"
      ],
      "text/latex": [
       "\\begin{Verbatim}[commandchars=\\\\\\{\\}]\n",
       "\\PY{c+cp}{\\PYZsh{}}\\PY{c+cp}{include}\\PY{+w}{ }\\PY{c+cpf}{\\PYZlt{}ROOT/RNTupleModel.hxx\\PYZgt{}}\n",
       "\\PY{c+cp}{\\PYZsh{}}\\PY{c+cp}{include}\\PY{+w}{ }\\PY{c+cpf}{\\PYZlt{}ROOT/RNTupleWriter.hxx\\PYZgt{}}\n",
       "\\PY{+w}{ }\n",
       "\\PY{c+cp}{\\PYZsh{}}\\PY{c+cp}{include}\\PY{+w}{ }\\PY{c+cpf}{\\PYZlt{}TMath.h\\PYZgt{}}\n",
       "\\PY{c+cp}{\\PYZsh{}}\\PY{c+cp}{include}\\PY{+w}{ }\\PY{c+cpf}{\\PYZlt{}TRandom.h\\PYZgt{}}\n",
       "\\PY{c+cp}{\\PYZsh{}}\\PY{c+cp}{include}\\PY{+w}{ }\\PY{c+cpf}{\\PYZlt{}TSystem.h\\PYZgt{}}\n",
       "\\PY{+w}{ }\n",
       "\\PY{c+cp}{\\PYZsh{}}\\PY{c+cp}{include}\\PY{+w}{ }\\PY{c+cpf}{\\PYZlt{}cstdio\\PYZgt{}}\n",
       "\\PY{c+cp}{\\PYZsh{}}\\PY{c+cp}{include}\\PY{+w}{ }\\PY{c+cpf}{\\PYZlt{}iostream\\PYZgt{}}\n",
       "\\PY{c+cp}{\\PYZsh{}}\\PY{c+cp}{include}\\PY{+w}{ }\\PY{c+cpf}{\\PYZlt{}memory\\PYZgt{}}\n",
       "\\PY{c+cp}{\\PYZsh{}}\\PY{c+cp}{include}\\PY{+w}{ }\\PY{c+cpf}{\\PYZlt{}vector\\PYZgt{}}\n",
       "\\PY{c+cp}{\\PYZsh{}}\\PY{c+cp}{include}\\PY{+w}{ }\\PY{c+cpf}{\\PYZlt{}utility\\PYZgt{}}\n",
       "\\PY{+w}{ }\n",
       "\\PY{k}{using}\\PY{+w}{ }\\PY{n}{RNTupleModel}\\PY{+w}{ }\\PY{o}{=}\\PY{+w}{ }\\PY{n}{ROOT}\\PY{o}{:}\\PY{o}{:}\\PY{n}{Experimental}\\PY{o}{:}\\PY{o}{:}\\PY{n}{RNTupleModel}\\PY{p}{;}\n",
       "\\PY{k}{using}\\PY{+w}{ }\\PY{n}{RNTupleWriter}\\PY{+w}{ }\\PY{o}{=}\\PY{+w}{ }\\PY{n}{ROOT}\\PY{o}{:}\\PY{o}{:}\\PY{n}{Experimental}\\PY{o}{:}\\PY{o}{:}\\PY{n}{RNTupleWriter}\\PY{p}{;}\n",
       "\\PY{+w}{ }\n",
       "\\PY{k}{constexpr}\\PY{+w}{ }\\PY{k+kt}{char}\\PY{+w}{ }\\PY{k}{const}\\PY{o}{*}\\PY{+w}{ }\\PY{n}{kNTupleFileName}\\PY{+w}{ }\\PY{o}{=}\\PY{+w}{ }\\PY{l+s}{\\PYZdq{}}\\PY{l+s}{example\\PYZus{}rntuple.root}\\PY{l+s}{\\PYZdq{}}\\PY{p}{;}\n",
       "\\PY{k}{constexpr}\\PY{+w}{ }\\PY{k+kt}{int}\\PY{+w}{ }\\PY{n}{kNEvents}\\PY{+w}{ }\\PY{o}{=}\\PY{+w}{ }\\PY{l+m+mi}{5}\\PY{p}{;}\n",
       "\\PY{k}{constexpr}\\PY{+w}{ }\\PY{k+kt}{int}\\PY{+w}{ }\\PY{n}{lepIds}\\PY{p}{[}\\PY{l+m+mi}{4}\\PY{p}{]}\\PY{+w}{ }\\PY{o}{=}\\PY{+w}{ }\\PY{p}{\\PYZob{}}\\PY{l+m+mi}{11}\\PY{p}{,}\\PY{+w}{ }\\PY{l+m+mi}{\\PYZhy{}11}\\PY{p}{,}\\PY{+w}{ }\\PY{l+m+mi}{13}\\PY{p}{,}\\PY{+w}{ }\\PY{l+m+mi}{\\PYZhy{}13}\\PY{p}{\\PYZcb{}}\\PY{p}{;}\n",
       "\n",
       "\\PY{k}{struct}\\PY{+w}{ }\\PY{n+nc}{MET}\\PY{+w}{ }\\PY{p}{\\PYZob{}}\n",
       "\\PY{+w}{   }\\PY{k+kt}{float}\\PY{+w}{ }\\PY{n}{et}\\PY{p}{;}\n",
       "\\PY{+w}{   }\\PY{k+kt}{float}\\PY{+w}{ }\\PY{n}{phi}\\PY{p}{;}\n",
       "\\PY{p}{\\PYZcb{}}\\PY{p}{;}\n",
       "\\PY{+w}{ }\n",
       "\\PY{k+kt}{void}\\PY{+w}{ }\\PY{n+nf}{example\\PYZus{}rntuple}\\PY{p}{(}\\PY{p}{)}\n",
       "\\PY{p}{\\PYZob{}}\n",
       "\\PY{+w}{   }\\PY{k}{auto}\\PY{+w}{ }\\PY{n}{model}\\PY{+w}{ }\\PY{o}{=}\\PY{+w}{ }\\PY{n}{RNTupleModel}\\PY{o}{:}\\PY{o}{:}\\PY{n}{Create}\\PY{p}{(}\\PY{p}{)}\\PY{p}{;}\n",
       "\\PY{+w}{ }\n",
       "\\PY{+w}{   }\\PY{k}{auto}\\PY{+w}{ }\\PY{n}{fldTrig}\\PY{+w}{   }\\PY{o}{=}\\PY{+w}{ }\\PY{n}{model}\\PY{o}{\\PYZhy{}}\\PY{o}{\\PYZgt{}}\\PY{n}{MakeField}\\PY{o}{\\PYZlt{}}\\PY{k+kt}{bool}\\PY{o}{\\PYZgt{}}\\PY{p}{(}\\PY{l+s}{\\PYZdq{}}\\PY{l+s}{trig}\\PY{l+s}{\\PYZdq{}}\\PY{p}{)}\\PY{p}{;}\n",
       "\\PY{+w}{   }\\PY{k}{auto}\\PY{+w}{ }\\PY{n}{fldMET}\\PY{+w}{    }\\PY{o}{=}\\PY{+w}{ }\\PY{n}{model}\\PY{o}{\\PYZhy{}}\\PY{o}{\\PYZgt{}}\\PY{n}{MakeField}\\PY{o}{\\PYZlt{}}\\PY{n}{MET}\\PY{o}{\\PYZgt{}}\\PY{p}{(}\\PY{l+s}{\\PYZdq{}}\\PY{l+s}{met}\\PY{l+s}{\\PYZdq{}}\\PY{p}{)}\\PY{p}{;}\n",
       "\\PY{+w}{   }\\PY{k}{auto}\\PY{+w}{ }\\PY{n}{fldLepPid}\\PY{+w}{ }\\PY{o}{=}\\PY{+w}{ }\\PY{n}{model}\\PY{o}{\\PYZhy{}}\\PY{o}{\\PYZgt{}}\\PY{n}{MakeField}\\PY{o}{\\PYZlt{}}\\PY{n}{std}\\PY{o}{:}\\PY{o}{:}\\PY{n}{vector}\\PY{o}{\\PYZlt{}}\\PY{k+kt}{int}\\PY{o}{\\PYZgt{}}\\PY{o}{\\PYZgt{}}\\PY{p}{(}\\PY{l+s}{\\PYZdq{}}\\PY{l+s}{lep\\PYZus{}pid}\\PY{l+s}{\\PYZdq{}}\\PY{p}{)}\\PY{p}{;}\n",
       "\\PY{+w}{ }\n",
       "\\PY{+w}{   }\\PY{k}{auto}\\PY{+w}{ }\\PY{n}{ntuple}\\PY{+w}{ }\\PY{o}{=}\\PY{+w}{ }\\PY{n}{RNTupleWriter}\\PY{o}{:}\\PY{o}{:}\\PY{n}{Recreate}\\PY{p}{(}\\PY{n}{std}\\PY{o}{:}\\PY{o}{:}\\PY{n}{move}\\PY{p}{(}\\PY{n}{model}\\PY{p}{)}\\PY{p}{,}\\PY{+w}{ }\\PY{l+s}{\\PYZdq{}}\\PY{l+s}{ntpl}\\PY{l+s}{\\PYZdq{}}\\PY{p}{,}\\PY{+w}{ }\\PY{n}{kNTupleFileName}\\PY{p}{)}\\PY{p}{;}\n",
       "\\PY{+w}{ }\n",
       "\\PY{+w}{   }\\PY{n}{gRandom}\\PY{o}{\\PYZhy{}}\\PY{o}{\\PYZgt{}}\\PY{n}{SetSeed}\\PY{p}{(}\\PY{l+m+mi}{42}\\PY{p}{)}\\PY{p}{;}\n",
       "\\PY{+w}{   }\\PY{k}{for}\\PY{+w}{ }\\PY{p}{(}\\PY{k+kt}{int}\\PY{+w}{ }\\PY{n}{i}\\PY{+w}{ }\\PY{o}{=}\\PY{+w}{ }\\PY{l+m+mi}{0}\\PY{p}{;}\\PY{+w}{ }\\PY{n}{i}\\PY{+w}{ }\\PY{o}{\\PYZlt{}}\\PY{+w}{ }\\PY{n}{kNEvents}\\PY{p}{;}\\PY{+w}{ }\\PY{n}{i}\\PY{o}{+}\\PY{o}{+}\\PY{p}{)}\\PY{+w}{ }\\PY{p}{\\PYZob{}}\n",
       "\\PY{+w}{      }\\PY{o}{*}\\PY{n}{fldTrig}\\PY{+w}{ }\\PY{o}{=}\\PY{+w}{ }\\PY{n}{gRandom}\\PY{o}{\\PYZhy{}}\\PY{o}{\\PYZgt{}}\\PY{n}{Rndm}\\PY{p}{(}\\PY{p}{)}\\PY{+w}{ }\\PY{o}{\\PYZgt{}}\\PY{+w}{ }\\PY{l+m+mf}{0.5}\\PY{p}{;}\n",
       "\n",
       "\\PY{+w}{      }\\PY{n}{fldMET}\\PY{o}{\\PYZhy{}}\\PY{o}{\\PYZgt{}}\\PY{n}{et}\\PY{+w}{   }\\PY{o}{=}\\PY{+w}{ }\\PY{n}{gRandom}\\PY{o}{\\PYZhy{}}\\PY{o}{\\PYZgt{}}\\PY{n}{Rndm}\\PY{p}{(}\\PY{p}{)}\\PY{o}{*}\\PY{l+m+mi}{100}\\PY{p}{;}\n",
       "\\PY{+w}{      }\\PY{n}{fldMET}\\PY{o}{\\PYZhy{}}\\PY{o}{\\PYZgt{}}\\PY{n}{phi}\\PY{+w}{  }\\PY{o}{=}\\PY{+w}{ }\\PY{p}{(}\\PY{l+m+mi}{2}\\PY{o}{*}\\PY{n}{gRandom}\\PY{o}{\\PYZhy{}}\\PY{o}{\\PYZgt{}}\\PY{n}{Rndm}\\PY{p}{(}\\PY{p}{)}\\PY{+w}{ }\\PY{o}{\\PYZhy{}}\\PY{+w}{ }\\PY{l+m+mi}{1}\\PY{p}{)}\\PY{o}{*}\\PY{n}{TMath}\\PY{o}{:}\\PY{o}{:}\\PY{n}{Pi}\\PY{p}{(}\\PY{p}{)}\\PY{p}{;}\n",
       "\\PY{+w}{ }\n",
       "\\PY{+w}{      }\\PY{n}{fldLepPid}\\PY{o}{\\PYZhy{}}\\PY{o}{\\PYZgt{}}\\PY{n}{clear}\\PY{p}{(}\\PY{p}{)}\\PY{p}{;}\n",
       "\\PY{+w}{      }\\PY{k+kt}{int}\\PY{+w}{ }\\PY{n}{nlep}\\PY{+w}{ }\\PY{o}{=}\\PY{+w}{ }\\PY{n}{gRandom}\\PY{o}{\\PYZhy{}}\\PY{o}{\\PYZgt{}}\\PY{n}{Integer}\\PY{p}{(}\\PY{l+m+mi}{5}\\PY{p}{)}\\PY{p}{;}\n",
       "\\PY{+w}{      }\\PY{k}{for}\\PY{+w}{ }\\PY{p}{(}\\PY{k+kt}{int}\\PY{+w}{ }\\PY{n}{j}\\PY{+w}{ }\\PY{o}{=}\\PY{+w}{ }\\PY{l+m+mi}{0}\\PY{p}{;}\\PY{+w}{ }\\PY{n}{j}\\PY{+w}{ }\\PY{o}{\\PYZlt{}}\\PY{+w}{ }\\PY{n}{nlep}\\PY{p}{;}\\PY{+w}{ }\\PY{o}{+}\\PY{o}{+}\\PY{n}{j}\\PY{p}{)}\\PY{+w}{ }\\PY{p}{\\PYZob{}}\n",
       "\\PY{+w}{         }\\PY{n}{fldLepPid}\\PY{o}{\\PYZhy{}}\\PY{o}{\\PYZgt{}}\\PY{n}{emplace\\PYZus{}back}\\PY{p}{(}\\PY{n}{lepIds}\\PY{p}{[}\\PY{n}{gRandom}\\PY{o}{\\PYZhy{}}\\PY{o}{\\PYZgt{}}\\PY{n}{Integer}\\PY{p}{(}\\PY{l+m+mi}{4}\\PY{p}{)}\\PY{p}{]}\\PY{p}{)}\\PY{p}{;}\n",
       "\n",
       "\\PY{+w}{      }\\PY{p}{\\PYZcb{}}\n",
       "\\PY{+w}{ }\n",
       "\\PY{+w}{      }\\PY{n}{ntuple}\\PY{o}{\\PYZhy{}}\\PY{o}{\\PYZgt{}}\\PY{n}{Fill}\\PY{p}{(}\\PY{p}{)}\\PY{p}{;}\n",
       "\\PY{+w}{   }\\PY{p}{\\PYZcb{}}\n",
       "\\PY{p}{\\PYZcb{}}\n",
       "\\end{Verbatim}\n"
      ],
      "text/plain": [
       "#include <ROOT/RNTupleModel.hxx>\n",
       "#include <ROOT/RNTupleWriter.hxx>\n",
       " \n",
       "#include <TMath.h>\n",
       "#include <TRandom.h>\n",
       "#include <TSystem.h>\n",
       " \n",
       "#include <cstdio>\n",
       "#include <iostream>\n",
       "#include <memory>\n",
       "#include <vector>\n",
       "#include <utility>\n",
       " \n",
       "using RNTupleModel = ROOT::Experimental::RNTupleModel;\n",
       "using RNTupleWriter = ROOT::Experimental::RNTupleWriter;\n",
       " \n",
       "constexpr char const* kNTupleFileName = \"example_rntuple.root\";\n",
       "constexpr int kNEvents = 5;\n",
       "constexpr int lepIds[4] = {11, -11, 13, -13};\n",
       "\n",
       "struct MET {\n",
       "   float et;\n",
       "   float phi;\n",
       "};\n",
       " \n",
       "void example_rntuple()\n",
       "{\n",
       "   auto model = RNTupleModel::Create();\n",
       " \n",
       "   auto fldTrig   = model->MakeField<bool>(\"trig\");\n",
       "   auto fldMET    = model->MakeField<MET>(\"met\");\n",
       "   auto fldLepPid = model->MakeField<std::vector<int>>(\"lep_pid\");\n",
       " \n",
       "   auto ntuple = RNTupleWriter::Recreate(std::move(model), \"ntpl\", kNTupleFileName);\n",
       " \n",
       "   gRandom->SetSeed(42);\n",
       "   for (int i = 0; i < kNEvents; i++) {\n",
       "      *fldTrig = gRandom->Rndm() > 0.5;\n",
       "\n",
       "      fldMET->et   = gRandom->Rndm()*100;\n",
       "      fldMET->phi  = (2*gRandom->Rndm() - 1)*TMath::Pi();\n",
       " \n",
       "      fldLepPid->clear();\n",
       "      int nlep = gRandom->Integer(5);\n",
       "      for (int j = 0; j < nlep; ++j) {\n",
       "         fldLepPid->emplace_back(lepIds[gRandom->Integer(4)]);\n",
       "\n",
       "      }\n",
       " \n",
       "      ntuple->Fill();\n",
       "   }\n",
       "}"
      ]
     },
     "execution_count": 35,
     "metadata": {},
     "output_type": "execute_result"
    }
   ],
   "source": [
    "from IPython.display import Code\n",
    "with open(\"example_rntuple.C\") as f:\n",
    "    code = f.read()\n",
    "Code(code, language='cpp')"
   ]
  },
  {
   "cell_type": "markdown",
   "id": "bf939f46-1d2f-4300-bd05-ec77e417d527",
   "metadata": {
    "editable": true,
    "slideshow": {
     "slide_type": "slide"
    },
    "tags": []
   },
   "source": [
    "## Using `uproot` to read this RNTuple"
   ]
  },
  {
   "cell_type": "markdown",
   "id": "4d5c62c5-d4b5-43f3-9566-0f43dc89aa88",
   "metadata": {
    "editable": true,
    "slideshow": {
     "slide_type": "fragment"
    },
    "tags": []
   },
   "source": [
    "As a quick reminder, `uproot` can be installed with `pip install uproot` or `conda install -c conda-forge uproot`. If you're using this notebook on JupyterLite then it is already installed."
   ]
  },
  {
   "cell_type": "markdown",
   "id": "5ad49b66-1af2-48e8-bca4-0db15655f252",
   "metadata": {
    "editable": true,
    "slideshow": {
     "slide_type": "fragment"
    },
    "tags": []
   },
   "source": [
    "Let's start by importing `uproot`."
   ]
  },
  {
   "cell_type": "code",
   "execution_count": 74,
   "id": "e56870fa-97d4-432f-b054-c20a3afd0027",
   "metadata": {
    "editable": true,
    "slideshow": {
     "slide_type": "fragment"
    },
    "tags": []
   },
   "outputs": [],
   "source": [
    "import uproot"
   ]
  },
  {
   "cell_type": "markdown",
   "id": "a91150c3-1baf-4495-8c6e-6305d2fc60ff",
   "metadata": {
    "editable": true,
    "slideshow": {
     "slide_type": "fragment"
    },
    "tags": []
   },
   "source": [
    "Let's now open this example file and see what's inside."
   ]
  },
  {
   "cell_type": "code",
   "execution_count": 75,
   "id": "d4435687-086f-499f-9859-8d086dba994f",
   "metadata": {
    "editable": true,
    "slideshow": {
     "slide_type": "fragment"
    },
    "tags": []
   },
   "outputs": [
    {
     "data": {
      "text/plain": [
       "{'ntpl;1': 'ROOT::Experimental::RNTuple'}"
      ]
     },
     "execution_count": 75,
     "metadata": {},
     "output_type": "execute_result"
    }
   ],
   "source": [
    "f = uproot.open(\"example_rntuple.root\")\n",
    "f.classnames()"
   ]
  },
  {
   "cell_type": "markdown",
   "id": "d9536b19-664c-4e7b-8831-b2935540bd7b",
   "metadata": {
    "editable": true,
    "slideshow": {
     "slide_type": "fragment"
    },
    "tags": []
   },
   "source": [
    " "
   ]
  },
  {
   "cell_type": "markdown",
   "id": "813708a4-7e3a-4fc6-b48b-b2b14a6b5d55",
   "metadata": {
    "editable": true,
    "slideshow": {
     "slide_type": "fragment"
    },
    "tags": []
   },
   "source": [
    "Let's now look at this RNTuple and briefly take a look at the data layout that we discussed before."
   ]
  },
  {
   "cell_type": "code",
   "execution_count": 76,
   "id": "4afbf353-7fd4-4818-b4e9-f99dd08f91d6",
   "metadata": {
    "editable": true,
    "slideshow": {
     "slide_type": "fragment"
    },
    "tags": []
   },
   "outputs": [],
   "source": [
    "ntpl = f[\"ntpl\"]"
   ]
  },
  {
   "cell_type": "code",
   "execution_count": 72,
   "id": "192d8755-aa1e-491c-a37f-0617af9a19d9",
   "metadata": {
    "editable": true,
    "slideshow": {
     "slide_type": "fragment"
    },
    "tags": []
   },
   "outputs": [
    {
     "name": "stdout",
     "output_type": "stream",
     "text": [
      "field_name=trig    type_name=bool                      idx=0 parent_idx=0\n",
      "field_name=met     type_name=MET                       idx=1 parent_idx=1\n",
      "field_name=et      type_name=float                     idx=2 parent_idx=1\n",
      "field_name=phi     type_name=float                     idx=3 parent_idx=1\n",
      "field_name=lep_pid type_name=std::vector<std::int32_t> idx=4 parent_idx=4\n",
      "field_name=_0      type_name=std::int32_t              idx=5 parent_idx=4\n"
     ]
    }
   ],
   "source": [
    "for i,fr in enumerate(ntpl.field_records):\n",
    "    print(f\"field_name={fr.field_name:<7} type_name={fr.type_name:<25} idx={i} parent_idx={fr.parent_field_id}\")"
   ]
  },
  {
   "cell_type": "markdown",
   "id": "7b79c3a0-acda-4f9c-9716-8f8f01ddc6a1",
   "metadata": {
    "editable": true,
    "slideshow": {
     "slide_type": "fragment"
    },
    "tags": []
   },
   "source": [
    " "
   ]
  },
  {
   "cell_type": "code",
   "execution_count": 77,
   "id": "eeb967ed-70ee-4529-adbe-fc4c77592b0a",
   "metadata": {
    "editable": true,
    "slideshow": {
     "slide_type": "fragment"
    },
    "tags": []
   },
   "outputs": [
    {
     "name": "stdout",
     "output_type": "stream",
     "text": [
      "idx=0, field_id=0, type=06, nbits=01\n",
      "idx=1, field_id=2, type=17, nbits=32\n",
      "idx=2, field_id=3, type=17, nbits=32\n",
      "idx=3, field_id=4, type=14, nbits=64\n",
      "idx=4, field_id=5, type=27, nbits=32\n"
     ]
    }
   ],
   "source": [
    "for cr in ntpl.column_records:\n",
    "    print(f\"idx={cr.idx}, field_id={cr.field_id}, type={cr.type:0>2}, nbits={cr.nbits:0>2}\")"
   ]
  },
  {
   "cell_type": "markdown",
   "id": "147d8130-0320-4812-9844-2f462e3d18f1",
   "metadata": {
    "editable": true,
    "slideshow": {
     "slide_type": "fragment"
    },
    "tags": []
   },
   "source": [
    " "
   ]
  },
  {
   "cell_type": "markdown",
   "id": "65711d31-0bb2-466a-b986-21fd7ca7ae40",
   "metadata": {
    "editable": true,
    "slideshow": {
     "slide_type": "slide"
    },
    "tags": []
   },
   "source": [
    "### Let's now actually read the data and put it into arrays!"
   ]
  },
  {
   "cell_type": "code",
   "execution_count": 79,
   "id": "62d66768-80bf-4869-bd20-ffda769b7c1d",
   "metadata": {
    "editable": true,
    "slideshow": {
     "slide_type": ""
    },
    "tags": []
   },
   "outputs": [
    {
     "data": {
      "text/html": [
       "<pre>[{trig: False, met: {et: 79.7, phi: 2.83}, lep_pid: []},\n",
       " {trig: True, met: {et: 78, phi: 0.62}, lep_pid: [11, ...]},\n",
       " {trig: False, met: {et: 10, phi: -2.78}, lep_pid: [-13, ...]},\n",
       " {trig: True, met: {et: 14.3, phi: 1.31}, lep_pid: [11, ...]},\n",
       " {trig: True, met: {et: 83.2, phi: 2.76}, lep_pid: [11]}]\n",
       "---------------------------------------------------------------\n",
       "type: 5 * {\n",
       "    trig: bool,\n",
       "    met: {\n",
       "        et: float32,\n",
       "        phi: float32\n",
       "    },\n",
       "    lep_pid: var * int32\n",
       "}</pre>"
      ],
      "text/plain": [
       "<Array [{trig: False, met: {...}, ...}, ...] type='5 * {trig: bool, met: {e...'>"
      ]
     },
     "execution_count": 79,
     "metadata": {},
     "output_type": "execute_result"
    }
   ],
   "source": [
    "arrays = ntpl.arrays()\n",
    "arrays"
   ]
  },
  {
   "cell_type": "markdown",
   "id": "d97fbaae-5c92-49ce-a99d-1b0d65005c1e",
   "metadata": {
    "editable": true,
    "slideshow": {
     "slide_type": "fragment"
    },
    "tags": []
   },
   "source": [
    " "
   ]
  },
  {
   "cell_type": "markdown",
   "id": "a7b3842f-7d42-4a81-9dc5-399d288c3ab1",
   "metadata": {
    "editable": true,
    "slideshow": {
     "slide_type": "fragment"
    },
    "tags": []
   },
   "source": [
    "Now everything works in the usual `awkward` fashion."
   ]
  },
  {
   "cell_type": "code",
   "execution_count": 80,
   "id": "a9f65fa8-1dfa-4838-b966-f29891750227",
   "metadata": {
    "editable": true,
    "slideshow": {
     "slide_type": "fragment"
    },
    "tags": []
   },
   "outputs": [
    {
     "data": {
      "text/html": [
       "<pre>[[],\n",
       " [11, -11],\n",
       " [-13, -11],\n",
       " [11, 11, -13],\n",
       " [11]]\n",
       "---------------------\n",
       "type: 5 * var * int32</pre>"
      ],
      "text/plain": [
       "<Array [[], [11, -11], [...], [11, 11, -13], [11]] type='5 * var * int32'>"
      ]
     },
     "execution_count": 80,
     "metadata": {},
     "output_type": "execute_result"
    }
   ],
   "source": [
    "arrays.lep_pid"
   ]
  },
  {
   "cell_type": "markdown",
   "id": "d22a4cbd-2e8c-4e12-ad75-8d34b575e799",
   "metadata": {
    "editable": true,
    "slideshow": {
     "slide_type": "fragment"
    },
    "tags": []
   },
   "source": [
    " "
   ]
  },
  {
   "cell_type": "markdown",
   "id": "16847a9c-3f5f-4bf4-8083-a88fdb84f281",
   "metadata": {
    "editable": true,
    "slideshow": {
     "slide_type": "slide"
    },
    "tags": []
   },
   "source": [
    "### We can already ready complex files\n",
    "\n",
    "Here is an example of a file produced by an ATLAS workflow."
   ]
  },
  {
   "cell_type": "code",
   "execution_count": 104,
   "id": "ab612549-80ce-4c40-88e0-f5fd390c273d",
   "metadata": {
    "editable": true,
    "slideshow": {
     "slide_type": "fragment"
    },
    "tags": []
   },
   "outputs": [],
   "source": [
    "url = \"https://github.com/scikit-hep/scikit-hep-testdata/raw/main/src/skhep_testdata/data/DAOD_TRUTH3_RC2.root\"\n",
    "\n",
    "# When not using WASM we can read the file directly\n",
    "# f = uproot.open(f\"simplecache::{url}\")\n",
    "\n",
    "# For WASM we need some workarounds\n",
    "#import requests\n",
    "#r = requests.get(f\"https://corsproxy.io/?{url}\") # Please be careful when using a CORS proxy\n",
    "#open(\"DAOD_TRUTH3_RC2.root\", \"wb\").write(r.content)\n",
    "f = uproot.open(\"DAOD_TRUTH3_RC2.root\")"
   ]
  },
  {
   "cell_type": "code",
   "execution_count": 105,
   "id": "cfa0bc0d-7678-4127-8fdb-155f07b841d8",
   "metadata": {
    "editable": true,
    "slideshow": {
     "slide_type": "fragment"
    },
    "tags": []
   },
   "outputs": [
    {
     "data": {
      "text/plain": [
       "{'##Params;5': 'TTree',\n",
       " '##Params;4': 'TTree',\n",
       " '##Params;3': 'TTree',\n",
       " '##Params;2': 'TTree',\n",
       " '##Params;1': 'TTree',\n",
       " '##Shapes;5': 'TTree',\n",
       " '##Shapes;4': 'TTree',\n",
       " '##Shapes;3': 'TTree',\n",
       " '##Shapes;2': 'TTree',\n",
       " '##Shapes;1': 'TTree',\n",
       " '##Links;5': 'TTree',\n",
       " '##Links;4': 'TTree',\n",
       " '##Links;3': 'TTree',\n",
       " '##Links;2': 'TTree',\n",
       " '##Links;1': 'TTree',\n",
       " 'POOLCollectionTree;4': 'TTree',\n",
       " 'POOLCollectionTree;3': 'TTree',\n",
       " 'POOLCollectionTree;2': 'TTree',\n",
       " 'POOLCollectionTree;1': 'TTree',\n",
       " 'MetaData;4': 'TTree',\n",
       " 'MetaData;3': 'TTree',\n",
       " 'MetaData;2': 'TTree',\n",
       " 'MetaData;1': 'TTree',\n",
       " 'MetaDataHdr;4': 'TTree',\n",
       " 'MetaDataHdr;3': 'TTree',\n",
       " 'MetaDataHdr;2': 'TTree',\n",
       " 'MetaDataHdr;1': 'TTree',\n",
       " 'MetaDataHdrForm;4': 'TTree',\n",
       " 'MetaDataHdrForm;3': 'TTree',\n",
       " 'MetaDataHdrForm;2': 'TTree',\n",
       " 'MetaDataHdrForm;1': 'TTree',\n",
       " 'RNT:CollectionTree;1': 'ROOT::Experimental::RNTuple',\n",
       " 'RNT:POOLContainer;1': 'ROOT::Experimental::RNTuple',\n",
       " 'RNT:POOLContainerForm;1': 'ROOT::Experimental::RNTuple'}"
      ]
     },
     "execution_count": 105,
     "metadata": {},
     "output_type": "execute_result"
    }
   ],
   "source": [
    "f.classnames()"
   ]
  },
  {
   "cell_type": "code",
   "execution_count": 106,
   "id": "7eb08e6c-ec1e-4de0-a92f-e61dd1758f8c",
   "metadata": {
    "editable": true,
    "slideshow": {
     "slide_type": "fragment"
    },
    "tags": []
   },
   "outputs": [],
   "source": [
    "ntpl = f[\"RNT:CollectionTree\"]"
   ]
  },
  {
   "cell_type": "code",
   "execution_count": 107,
   "id": "0ef8b717-d448-47ba-ba76-535e3cc08b19",
   "metadata": {
    "editable": true,
    "slideshow": {
     "slide_type": ""
    },
    "tags": []
   },
   "outputs": [
    {
     "data": {
      "text/html": [
       "<pre>[{index_ref: 13374992016211968, ...},\n",
       " {index_ref: 13374992016211969, ...},\n",
       " {index_ref: 13374992016211970, ...},\n",
       " {index_ref: 13374992016211971, ...},\n",
       " {index_ref: 13374992016211972, ...},\n",
       " {index_ref: 13374992016211973, ...},\n",
       " {index_ref: 13374992016211974, ...},\n",
       " {index_ref: 13374992016211975, ...},\n",
       " {index_ref: 13374992016211976, ...},\n",
       " {index_ref: 13374992016211977, ...}]\n",
       "------------------------------------------------------------------------------\n",
       "type: 10 * {\n",
       "    index_ref: uint64,\n",
       "    &quot;AntiKt10TruthSoftDropBeta100Zcut10JetsAux:&quot;: {\n",
       "        pt: var * float32,\n",
       "        eta: var * float32,\n",
       "        phi: var * float32,\n",
       "        m: var * float32,\n",
       "        constituentLinks: var * var * {\n",
       "            &quot;:_0&quot;: {\n",
       "                m_persKey: uint32,\n",
       "                m_persIndex: uint32\n",
       "            }\n",
       "        },\n",
       "        constituentWeights: var * var * float32\n",
       "    },\n",
       "    &quot;AntiKt4TruthDressedWZJetsAux:&quot;: {\n",
       "        pt: var * float32,\n",
       "        eta: var * float32,\n",
       "        phi: var * float32,\n",
       "        m: var * float32,\n",
       "        constituentLinks: var * var * {\n",
       "            &quot;:_0&quot;: {\n",
       "                m_persKey: uint32,\n",
       "                m_persIndex: uint32\n",
       "            }\n",
       "        },\n",
       "        constituentWeights: var * var * float32\n",
       "    },\n",
       "    &quot;AntiKt10TruthSoftDropBeta100Zcut10JetsAux::D2&quot;: var * float32,\n",
       "    &quot;AntiKt10TruthSoftDropBeta100Zcut10JetsAux::Tau1_wta&quot;: var * float32,\n",
       "    &quot;AntiKt10TruthSoftDropBeta100Zcut10JetsAux::Tau2_wta&quot;: var * float32,\n",
       "    &quot;AntiKt10TruthSoftDropBeta100Zcut10JetsAux::Tau3_wta&quot;: var * float32,\n",
       "    &quot;AntiKt4TruthDressedWZJetsAux::HadronConeExclTruthLabelID&quot;: var * int32,\n",
       "    &quot;AntiKt4TruthDressedWZJetsAux::GhostBHadronsFinalCount&quot;: var * int32,\n",
       "    &quot;AntiKt4TruthDressedWZJetsAux::GhostCHadronsFinalCount&quot;: var * int32,\n",
       "    &quot;AntiKt4TruthDressedWZJetsAux::PartonTruthLabelID&quot;: var * int32,\n",
       "    &quot;AntiKt4TruthDressedWZJetsAux::ConeTruthLabelID&quot;: var * int32,\n",
       "    &quot;AntiKt4TruthDressedWZJetsAux::TrueFlavor&quot;: var * int32,\n",
       "    &quot;EventInfoAux::eventNumber&quot;: uint64,\n",
       "    &quot;EventInfoAux::mcEventNumber&quot;: uint64,\n",
       "    &quot;EventInfoAux::streamTagNames&quot;: var * string,\n",
       "    &quot;EventInfoAux::streamTagTypes&quot;: var * string,\n",
       "    &quot;EventInfoAux::streamTagObeysLumiblock&quot;: var * uint8,\n",
       "    &quot;EventInfoAux::streamTagRobs&quot;: var * var * uint32,\n",
       "    &quot;EventInfoAux::streamTagDets&quot;: var * var * uint32,\n",
       "    &quot;EventInfoAux::actualInteractionsPerCrossing&quot;: float32,\n",
       "    &quot;EventInfoAux::averageInteractionsPerCrossing&quot;: float32,\n",
       "    &quot;EventInfoAux::mcChannelNumber&quot;: uint32,\n",
       "    &quot;EventInfoAux::GenFiltHT&quot;: float32,\n",
       "    &quot;EventInfoAux::GenFiltHTinclNu&quot;: float32,\n",
       "    &quot;EventInfoAux::GenFiltMET&quot;: float32,\n",
       "    &quot;EventInfoAux::GenFiltPTZ&quot;: float32,\n",
       "    &quot;EventInfoAux::GenFiltFatJ&quot;: float32,\n",
       "    &quot;EventInfoAux::TruthIsoCentralEventShape_rho&quot;: float32,\n",
       "    &quot;EventInfoAux::TruthIsoForwardEventShape_rho&quot;: float32,\n",
       "    &quot;EventInfoAux::runNumber&quot;: uint32,\n",
       "    &quot;EventInfoAux::lumiBlock&quot;: uint32,\n",
       "    &quot;EventInfoAux::timeStamp&quot;: uint32,\n",
       "    &quot;EventInfoAux::timeStampNSOffset&quot;: uint32,\n",
       "    &quot;EventInfoAux::bcid&quot;: uint32,\n",
       "    &quot;EventInfoAux::detectorMask0&quot;: uint32,\n",
       "    &quot;EventInfoAux::detectorMask1&quot;: uint32,\n",
       "    &quot;EventInfoAux::detectorMask2&quot;: uint32,\n",
       "    &quot;EventInfoAux::detectorMask3&quot;: uint32,\n",
       "    &quot;EventInfoAux::detDescrTags&quot;: var * {\n",
       "        _0: string,\n",
       "        _1: string\n",
       "    },\n",
       "    &quot;EventInfoAux::eventTypeBitmask&quot;: uint32,\n",
       "    &quot;EventInfoAux::statusElement&quot;: uint32,\n",
       "    &quot;EventInfoAux::extendedLevel1ID&quot;: uint32,\n",
       "    &quot;EventInfoAux::level1TriggerType&quot;: uint16,\n",
       "    &quot;EventInfoAux::pixelFlags&quot;: uint32,\n",
       "    &quot;EventInfoAux::sctFlags&quot;: uint32,\n",
       "    &quot;EventInfoAux::trtFlags&quot;: uint32,\n",
       "    &quot;EventInfoAux::larFlags&quot;: uint32,\n",
       "    &quot;EventInfoAux::tileFlags&quot;: uint32,\n",
       "    &quot;EventInfoAux::muonFlags&quot;: uint32,\n",
       "    &quot;EventInfoAux::forwardDetFlags&quot;: uint32,\n",
       "    &quot;EventInfoAux::coreFlags&quot;: uint32,\n",
       "    &quot;EventInfoAux::backgroundFlags&quot;: uint32,\n",
       "    &quot;EventInfoAux::lumiFlags&quot;: uint32,\n",
       "    &quot;EventInfoAux::mcEventWeights&quot;: var * float32,\n",
       "    &quot;HardScatterParticlesAux::prodVtxLink&quot;: var * {\n",
       "        &quot;:_0&quot;: {\n",
       "            m_persKey: uint32,\n",
       "            m_persIndex: uint32\n",
       "        }\n",
       "    },\n",
       "    &quot;HardScatterParticlesAux::decayVtxLink&quot;: var * {\n",
       "        &quot;:_0&quot;: {\n",
       "            m_persKey: uint32,\n",
       "            m_persIndex: uint32\n",
       "        }\n",
       "    },\n",
       "    &quot;HardScatterParticlesAux::m&quot;: var * float32,\n",
       "    &quot;HardScatterParticlesAux::px&quot;: var * float32,\n",
       "    &quot;HardScatterParticlesAux::py&quot;: var * float32,\n",
       "    &quot;HardScatterParticlesAux::pz&quot;: var * float32,\n",
       "    &quot;HardScatterParticlesAux::e&quot;: var * float32,\n",
       "    &quot;HardScatterParticlesAux::pdgId&quot;: var * int32,\n",
       "    &quot;HardScatterParticlesAux::classifierParticleOrigin&quot;: var * uint32,\n",
       "    &quot;HardScatterParticlesAux::barcode&quot;: var * int32,\n",
       "    &quot;HardScatterParticlesAux::status&quot;: var * int32,\n",
       "    &quot;HardScatterParticlesAux::classifierParticleType&quot;: var * uint32,\n",
       "    &quot;HardScatterParticlesAux::classifierParticleOutCome&quot;: var * uint32,\n",
       "    &quot;HardScatterVerticesAux::incomingParticleLinks&quot;: var * var * {\n",
       "        &quot;:_0&quot;: {\n",
       "            m_persKey: uint32,\n",
       "            m_persIndex: uint32\n",
       "        }\n",
       "    },\n",
       "    &quot;HardScatterVerticesAux::outgoingParticleLinks&quot;: var * var * {\n",
       "        &quot;:_0&quot;: {\n",
       "            m_persKey: uint32,\n",
       "            m_persIndex: uint32\n",
       "        }\n",
       "    },\n",
       "    &quot;HardScatterVerticesAux::barcode&quot;: var * int32,\n",
       "    &quot;HardScatterVerticesAux::id&quot;: var * int32,\n",
       "    &quot;HardScatterVerticesAux::x&quot;: var * float32,\n",
       "    &quot;HardScatterVerticesAux::y&quot;: var * float32,\n",
       "    &quot;HardScatterVerticesAux::z&quot;: var * float32,\n",
       "    &quot;HardScatterVerticesAux::t&quot;: var * float32,\n",
       "    &quot;MET_TruthAux::name&quot;: var * string,\n",
       "    &quot;MET_TruthAux::mpx&quot;: var * float32,\n",
       "    &quot;MET_TruthAux::mpy&quot;: var * float32,\n",
       "    &quot;MET_TruthAux::sumet&quot;: var * float32,\n",
       "    &quot;MET_TruthAux::source&quot;: var * uint64,\n",
       "    &quot;TruthBSMAux::prodVtxLink&quot;: var * {\n",
       "        &quot;:_0&quot;: {\n",
       "            m_persKey: uint32,\n",
       "            m_persIndex: uint32\n",
       "        }\n",
       "    },\n",
       "    &quot;TruthBSMAux::decayVtxLink&quot;: var * {\n",
       "        &quot;:_0&quot;: {\n",
       "            m_persKey: uint32,\n",
       "            m_persIndex: uint32\n",
       "        }\n",
       "    },\n",
       "    &quot;TruthBSMAux::parentLinks&quot;: var * var * {\n",
       "        &quot;:_0&quot;: {\n",
       "            m_persKey: uint32,\n",
       "            m_persIndex: uint32\n",
       "        }\n",
       "    },\n",
       "    &quot;TruthBSMAux::childLinks&quot;: var * var * {\n",
       "        &quot;:_0&quot;: {\n",
       "            m_persKey: uint32,\n",
       "            m_persIndex: uint32\n",
       "        }\n",
       "    },\n",
       "    &quot;TruthBSMAux::m&quot;: var * float32,\n",
       "    &quot;TruthBSMAux::px&quot;: var * float32,\n",
       "    &quot;TruthBSMAux::py&quot;: var * float32,\n",
       "    &quot;TruthBSMAux::pz&quot;: var * float32,\n",
       "    &quot;TruthBSMAux::e&quot;: var * float32,\n",
       "    &quot;TruthBSMAux::pdgId&quot;: var * int32,\n",
       "    &quot;TruthBSMAux::classifierParticleOrigin&quot;: var * uint32,\n",
       "    &quot;TruthBSMAux::Classification&quot;: var * uint32,\n",
       "    &quot;TruthBSMAux::barcode&quot;: var * int32,\n",
       "    &quot;TruthBSMAux::status&quot;: var * int32,\n",
       "    &quot;TruthBSMAux::polarizationTheta&quot;: var * float32,\n",
       "    &quot;TruthBSMAux::polarizationPhi&quot;: var * float32,\n",
       "    &quot;TruthBSMAux::classifierParticleType&quot;: var * uint32,\n",
       "    &quot;TruthBSMAux::classifierParticleOutCome&quot;: var * uint32,\n",
       "    &quot;TruthBSMWithDecayParticlesAux::prodVtxLink&quot;: var * {\n",
       "        &quot;:_0&quot;: {\n",
       "            m_persKey: uint32,\n",
       "            m_persIndex: uint32\n",
       "        }\n",
       "    },\n",
       "    &quot;TruthBSMWithDecayParticlesAux::decayVtxLink&quot;: var * {\n",
       "        &quot;:_0&quot;: {\n",
       "            m_persKey: uint32,\n",
       "            m_persIndex: uint32\n",
       "        }\n",
       "    },\n",
       "    &quot;TruthBSMWithDecayParticlesAux::m&quot;: var * float32,\n",
       "    &quot;TruthBSMWithDecayParticlesAux::px&quot;: var * float32,\n",
       "    &quot;TruthBSMWithDecayParticlesAux::py&quot;: var * float32,\n",
       "    &quot;TruthBSMWithDecayParticlesAux::pz&quot;: var * float32,\n",
       "    &quot;TruthBSMWithDecayParticlesAux::e&quot;: var * float32,\n",
       "    &quot;TruthBSMWithDecayParticlesAux::pdgId&quot;: var * int32,\n",
       "    &quot;TruthBSMWithDecayParticlesAux::classifierParticleOrigin&quot;: var * uint32,\n",
       "    &quot;TruthBSMWithDecayParticlesAux::Classification&quot;: var * uint32,\n",
       "    &quot;TruthBSMWithDecayParticlesAux::barcode&quot;: var * int32,\n",
       "    &quot;TruthBSMWithDecayParticlesAux::status&quot;: var * int32,\n",
       "    &quot;TruthBSMWithDecayParticlesAux::classifierParticleType&quot;: var * uint32,\n",
       "    &quot;TruthBSMWithDecayParticlesAux::classifierParticleOutCome&quot;: var * uint32,\n",
       "    &quot;TruthBSMWithDecayVerticesAux::incomingParticleLinks&quot;: var * var * {\n",
       "        &quot;:_0&quot;: {\n",
       "            m_persKey: uint32,\n",
       "            m_persIndex: uint32\n",
       "        }\n",
       "    },\n",
       "    &quot;TruthBSMWithDecayVerticesAux::outgoingParticleLinks&quot;: var * var * {\n",
       "        &quot;:_0&quot;: {\n",
       "            m_persKey: uint32,\n",
       "            m_persIndex: uint32\n",
       "        }\n",
       "    },\n",
       "    &quot;TruthBSMWithDecayVerticesAux::barcode&quot;: var * int32,\n",
       "    &quot;TruthBSMWithDecayVerticesAux::id&quot;: var * int32,\n",
       "    &quot;TruthBSMWithDecayVerticesAux::x&quot;: var * float32,\n",
       "    &quot;TruthBSMWithDecayVerticesAux::y&quot;: var * float32,\n",
       "    &quot;TruthBSMWithDecayVerticesAux::z&quot;: var * float32,\n",
       "    &quot;TruthBSMWithDecayVerticesAux::t&quot;: var * float32,\n",
       "    &quot;TruthBottomAux::prodVtxLink&quot;: var * {\n",
       "        &quot;:_0&quot;: {\n",
       "            m_persKey: uint32,\n",
       "            m_persIndex: uint32\n",
       "        }\n",
       "    },\n",
       "    &quot;TruthBottomAux::decayVtxLink&quot;: var * {\n",
       "        &quot;:_0&quot;: {\n",
       "            m_persKey: uint32,\n",
       "            m_persIndex: uint32\n",
       "        }\n",
       "    },\n",
       "    &quot;TruthBottomAux::parentLinks&quot;: var * var * {\n",
       "        &quot;:_0&quot;: {\n",
       "            m_persKey: uint32,\n",
       "            m_persIndex: uint32\n",
       "        }\n",
       "    },\n",
       "    &quot;TruthBottomAux::childLinks&quot;: var * var * {\n",
       "        &quot;:_0&quot;: {\n",
       "            m_persKey: uint32,\n",
       "            m_persIndex: uint32\n",
       "        }\n",
       "    },\n",
       "    &quot;TruthBottomAux::m&quot;: var * float32,\n",
       "    &quot;TruthBottomAux::px&quot;: var * float32,\n",
       "    &quot;TruthBottomAux::py&quot;: var * float32,\n",
       "    &quot;TruthBottomAux::pz&quot;: var * float32,\n",
       "    &quot;TruthBottomAux::e&quot;: var * float32,\n",
       "    &quot;TruthBottomAux::pdgId&quot;: var * int32,\n",
       "    &quot;TruthBottomAux::classifierParticleOrigin&quot;: var * uint32,\n",
       "    &quot;TruthBottomAux::Classification&quot;: var * uint32,\n",
       "    &quot;TruthBottomAux::barcode&quot;: var * int32,\n",
       "    &quot;TruthBottomAux::status&quot;: var * int32,\n",
       "    &quot;TruthBottomAux::polarizationTheta&quot;: var * float32,\n",
       "    &quot;TruthBottomAux::polarizationPhi&quot;: var * float32,\n",
       "    &quot;TruthBottomAux::classifierParticleType&quot;: var * uint32,\n",
       "    &quot;TruthBottomAux::classifierParticleOutCome&quot;: var * uint32,\n",
       "    &quot;TruthElectronsAux::prodVtxLink&quot;: var * {\n",
       "        &quot;:_0&quot;: {\n",
       "            m_persKey: uint32,\n",
       "            m_persIndex: uint32\n",
       "        }\n",
       "    },\n",
       "    &quot;TruthElectronsAux::decayVtxLink&quot;: var * {\n",
       "        &quot;:_0&quot;: {\n",
       "            m_persKey: uint32,\n",
       "            m_persIndex: uint32\n",
       "        }\n",
       "    },\n",
       "    &quot;TruthElectronsAux::parentLinks&quot;: var * var * {\n",
       "        &quot;:_0&quot;: {\n",
       "            m_persKey: uint32,\n",
       "            m_persIndex: uint32\n",
       "        }\n",
       "    },\n",
       "    &quot;TruthElectronsAux::childLinks&quot;: var * var * {\n",
       "        &quot;:_0&quot;: {\n",
       "            m_persKey: uint32,\n",
       "            m_persIndex: uint32\n",
       "        }\n",
       "    },\n",
       "    &quot;TruthElectronsAux::m&quot;: var * float32,\n",
       "    &quot;TruthElectronsAux::px&quot;: var * float32,\n",
       "    &quot;TruthElectronsAux::py&quot;: var * float32,\n",
       "    &quot;TruthElectronsAux::pz&quot;: var * float32,\n",
       "    &quot;TruthElectronsAux::e&quot;: var * float32,\n",
       "    &quot;TruthElectronsAux::pdgId&quot;: var * int32,\n",
       "    &quot;TruthElectronsAux::classifierParticleOrigin&quot;: var * uint32,\n",
       "    &quot;TruthElectronsAux::Classification&quot;: var * uint32,\n",
       "    &quot;TruthElectronsAux::barcode&quot;: var * int32,\n",
       "    &quot;TruthElectronsAux::status&quot;: var * int32,\n",
       "    &quot;TruthElectronsAux::polarizationTheta&quot;: var * float32,\n",
       "    &quot;TruthElectronsAux::polarizationPhi&quot;: var * float32,\n",
       "    &quot;TruthElectronsAux::classifierParticleType&quot;: var * uint32,\n",
       "    &quot;TruthElectronsAux::classifierParticleOutCome&quot;: var * uint32,\n",
       "    &quot;TruthElectronsAux::etcone20&quot;: var * float32,\n",
       "    &quot;TruthElectronsAux::ptcone30&quot;: var * float32,\n",
       "    &quot;TruthElectronsAux::e_dressed&quot;: var * float32,\n",
       "    &quot;TruthElectronsAux::pt_dressed&quot;: var * float32,\n",
       "    &quot;TruthElectronsAux::eta_dressed&quot;: var * float32,\n",
       "    &quot;TruthElectronsAux::phi_dressed&quot;: var * float32,\n",
       "    &quot;TruthElectronsAux::nPhotons_dressed&quot;: var * int32,\n",
       "    &quot;TruthEventsAux::crossSection&quot;: var * float32,\n",
       "    &quot;TruthEventsAux::PDGID1&quot;: var * int32,\n",
       "    &quot;TruthEventsAux::PDGID2&quot;: var * int32,\n",
       "    &quot;TruthEventsAux::PDFID1&quot;: var * int32,\n",
       "    &quot;TruthEventsAux::PDFID2&quot;: var * int32,\n",
       "    &quot;TruthEventsAux::X1&quot;: var * float32,\n",
       "    &quot;TruthEventsAux::X2&quot;: var * float32,\n",
       "    &quot;TruthEventsAux::Q&quot;: var * float32,\n",
       "    &quot;TruthEventsAux::XF1&quot;: var * float32,\n",
       "    &quot;TruthEventsAux::XF2&quot;: var * float32,\n",
       "    &quot;TruthMuonsAux::prodVtxLink&quot;: var * {\n",
       "        &quot;:_0&quot;: {\n",
       "            m_persKey: uint32,\n",
       "            m_persIndex: uint32\n",
       "        }\n",
       "    },\n",
       "    &quot;TruthMuonsAux::decayVtxLink&quot;: var * {\n",
       "        &quot;:_0&quot;: {\n",
       "            m_persKey: uint32,\n",
       "            m_persIndex: uint32\n",
       "        }\n",
       "    },\n",
       "    &quot;TruthMuonsAux::parentLinks&quot;: var * var * {\n",
       "        &quot;:_0&quot;: {\n",
       "            m_persKey: uint32,\n",
       "            m_persIndex: uint32\n",
       "        }\n",
       "    },\n",
       "    &quot;TruthMuonsAux::childLinks&quot;: var * var * {\n",
       "        &quot;:_0&quot;: {\n",
       "            m_persKey: uint32,\n",
       "            m_persIndex: uint32\n",
       "        }\n",
       "    },\n",
       "    &quot;TruthMuonsAux::m&quot;: var * float32,\n",
       "    &quot;TruthMuonsAux::px&quot;: var * float32,\n",
       "    &quot;TruthMuonsAux::py&quot;: var * float32,\n",
       "    &quot;TruthMuonsAux::pz&quot;: var * float32,\n",
       "    &quot;TruthMuonsAux::e&quot;: var * float32,\n",
       "    &quot;TruthMuonsAux::pdgId&quot;: var * int32,\n",
       "    &quot;TruthMuonsAux::classifierParticleOrigin&quot;: var * uint32,\n",
       "    &quot;TruthMuonsAux::Classification&quot;: var * uint32,\n",
       "    &quot;TruthMuonsAux::barcode&quot;: var * int32,\n",
       "    &quot;TruthMuonsAux::status&quot;: var * int32,\n",
       "    &quot;TruthMuonsAux::polarizationTheta&quot;: var * float32,\n",
       "    &quot;TruthMuonsAux::polarizationPhi&quot;: var * float32,\n",
       "    &quot;TruthMuonsAux::classifierParticleType&quot;: var * uint32,\n",
       "    &quot;TruthMuonsAux::classifierParticleOutCome&quot;: var * uint32,\n",
       "    &quot;TruthMuonsAux::etcone20&quot;: var * float32,\n",
       "    &quot;TruthMuonsAux::ptcone30&quot;: var * float32,\n",
       "    &quot;TruthMuonsAux::e_dressed&quot;: var * float32,\n",
       "    &quot;TruthMuonsAux::pt_dressed&quot;: var * float32,\n",
       "    &quot;TruthMuonsAux::eta_dressed&quot;: var * float32,\n",
       "    &quot;TruthMuonsAux::phi_dressed&quot;: var * float32,\n",
       "    &quot;TruthMuonsAux::nPhotons_dressed&quot;: var * int32,\n",
       "    &quot;TruthNeutrinosAux::prodVtxLink&quot;: var * {\n",
       "        &quot;:_0&quot;: {\n",
       "            m_persKey: uint32,\n",
       "            m_persIndex: uint32\n",
       "        }\n",
       "    },\n",
       "    &quot;TruthNeutrinosAux::decayVtxLink&quot;: var * {\n",
       "        &quot;:_0&quot;: {\n",
       "            m_persKey: uint32,\n",
       "            m_persIndex: uint32\n",
       "        }\n",
       "    },\n",
       "    &quot;TruthNeutrinosAux::parentLinks&quot;: var * var * {\n",
       "        &quot;:_0&quot;: {\n",
       "            m_persKey: uint32,\n",
       "            m_persIndex: uint32\n",
       "        }\n",
       "    },\n",
       "    &quot;TruthNeutrinosAux::childLinks&quot;: var * var * {\n",
       "        &quot;:_0&quot;: {\n",
       "            m_persKey: uint32,\n",
       "            m_persIndex: uint32\n",
       "        }\n",
       "    },\n",
       "    &quot;TruthNeutrinosAux::m&quot;: var * float32,\n",
       "    &quot;TruthNeutrinosAux::px&quot;: var * float32,\n",
       "    &quot;TruthNeutrinosAux::py&quot;: var * float32,\n",
       "    &quot;TruthNeutrinosAux::pz&quot;: var * float32,\n",
       "    &quot;TruthNeutrinosAux::e&quot;: var * float32,\n",
       "    &quot;TruthNeutrinosAux::pdgId&quot;: var * int32,\n",
       "    &quot;TruthNeutrinosAux::classifierParticleOrigin&quot;: var * uint32,\n",
       "    &quot;TruthNeutrinosAux::Classification&quot;: var * uint32,\n",
       "    &quot;TruthNeutrinosAux::barcode&quot;: var * int32,\n",
       "    &quot;TruthNeutrinosAux::status&quot;: var * int32,\n",
       "    &quot;TruthNeutrinosAux::polarizationTheta&quot;: var * float32,\n",
       "    &quot;TruthNeutrinosAux::polarizationPhi&quot;: var * float32,\n",
       "    &quot;TruthNeutrinosAux::classifierParticleType&quot;: var * uint32,\n",
       "    &quot;TruthNeutrinosAux::classifierParticleOutCome&quot;: var * uint32,\n",
       "    &quot;TruthPhotonsAux::prodVtxLink&quot;: var * {\n",
       "        &quot;:_0&quot;: {\n",
       "            m_persKey: uint32,\n",
       "            m_persIndex: uint32\n",
       "        }\n",
       "    },\n",
       "    &quot;TruthPhotonsAux::decayVtxLink&quot;: var * {\n",
       "        &quot;:_0&quot;: {\n",
       "            m_persKey: uint32,\n",
       "            m_persIndex: uint32\n",
       "        }\n",
       "    },\n",
       "    &quot;TruthPhotonsAux::parentLinks&quot;: var * var * {\n",
       "        &quot;:_0&quot;: {\n",
       "            m_persKey: uint32,\n",
       "            m_persIndex: uint32\n",
       "        }\n",
       "    },\n",
       "    &quot;TruthPhotonsAux::childLinks&quot;: var * var * {\n",
       "        &quot;:_0&quot;: {\n",
       "            m_persKey: uint32,\n",
       "            m_persIndex: uint32\n",
       "        }\n",
       "    },\n",
       "    &quot;TruthPhotonsAux::m&quot;: var * float32,\n",
       "    &quot;TruthPhotonsAux::px&quot;: var * float32,\n",
       "    &quot;TruthPhotonsAux::py&quot;: var * float32,\n",
       "    &quot;TruthPhotonsAux::pz&quot;: var * float32,\n",
       "    &quot;TruthPhotonsAux::e&quot;: var * float32,\n",
       "    &quot;TruthPhotonsAux::pdgId&quot;: var * int32,\n",
       "    &quot;TruthPhotonsAux::classifierParticleOrigin&quot;: var * uint32,\n",
       "    &quot;TruthPhotonsAux::Classification&quot;: var * uint32,\n",
       "    &quot;TruthPhotonsAux::barcode&quot;: var * int32,\n",
       "    &quot;TruthPhotonsAux::status&quot;: var * int32,\n",
       "    &quot;TruthPhotonsAux::polarizationTheta&quot;: var * float32,\n",
       "    &quot;TruthPhotonsAux::polarizationPhi&quot;: var * float32,\n",
       "    &quot;TruthPhotonsAux::classifierParticleType&quot;: var * uint32,\n",
       "    &quot;TruthPhotonsAux::classifierParticleOutCome&quot;: var * uint32,\n",
       "    &quot;TruthPhotonsAux::etcone20&quot;: var * float32,\n",
       "    &quot;TruthPhotonsAux::ptcone20&quot;: var * float32,\n",
       "    &quot;TruthPhotonsAux::etcone40&quot;: var * float32,\n",
       "    &quot;TruthTausAux::prodVtxLink&quot;: var * {\n",
       "        &quot;:_0&quot;: {\n",
       "            m_persKey: uint32,\n",
       "            m_persIndex: uint32\n",
       "        }\n",
       "    },\n",
       "    &quot;TruthTausAux::decayVtxLink&quot;: var * {\n",
       "        &quot;:_0&quot;: {\n",
       "            m_persKey: uint32,\n",
       "            m_persIndex: uint32\n",
       "        }\n",
       "    },\n",
       "    &quot;TruthTausAux::parentLinks&quot;: var * var * {\n",
       "        &quot;:_0&quot;: {\n",
       "            m_persKey: uint32,\n",
       "            m_persIndex: uint32\n",
       "        }\n",
       "    },\n",
       "    &quot;TruthTausAux::childLinks&quot;: var * var * {\n",
       "        &quot;:_0&quot;: {\n",
       "            m_persKey: uint32,\n",
       "            m_persIndex: uint32\n",
       "        }\n",
       "    },\n",
       "    &quot;TruthTausAux::m&quot;: var * float32,\n",
       "    &quot;TruthTausAux::px&quot;: var * float32,\n",
       "    &quot;TruthTausAux::py&quot;: var * float32,\n",
       "    &quot;TruthTausAux::pz&quot;: var * float32,\n",
       "    &quot;TruthTausAux::e&quot;: var * float32,\n",
       "    &quot;TruthTausAux::pdgId&quot;: var * int32,\n",
       "    &quot;TruthTausAux::classifierParticleOrigin&quot;: var * uint32,\n",
       "    &quot;TruthTausAux::Classification&quot;: var * uint32,\n",
       "    &quot;TruthTausAux::barcode&quot;: var * int32,\n",
       "    &quot;TruthTausAux::status&quot;: var * int32,\n",
       "    &quot;TruthTausAux::polarizationTheta&quot;: var * float32,\n",
       "    &quot;TruthTausAux::polarizationPhi&quot;: var * float32,\n",
       "    &quot;TruthTausAux::originalTruthParticle&quot;: var * {\n",
       "        &quot;:_0&quot;: {\n",
       "            m_persKey: uint32,\n",
       "            m_persIndex: uint32\n",
       "        }\n",
       "    },\n",
       "    &quot;TruthTausAux::classifierParticleType&quot;: var * uint32,\n",
       "    &quot;TruthTausAux::classifierParticleOutCome&quot;: var * uint32,\n",
       "    &quot;TruthTausAux::pt_vis_dressed&quot;: var * float32,\n",
       "    &quot;TruthTausAux::eta_vis_dressed&quot;: var * float32,\n",
       "    &quot;TruthTausAux::phi_vis_dressed&quot;: var * float32,\n",
       "    &quot;TruthTausAux::m_vis_dressed&quot;: var * float32,\n",
       "    &quot;TruthTausAux::nPhotons_dressed&quot;: var * int32,\n",
       "    &quot;TruthTausAux::dressedPhoton&quot;: var * uint8,\n",
       "    &quot;TruthTausAux::pt_vis&quot;: var * float64,\n",
       "    &quot;TruthTausAux::eta_vis&quot;: var * float64,\n",
       "    &quot;TruthTausAux::phi_vis&quot;: var * float64,\n",
       "    &quot;TruthTausAux::m_vis&quot;: var * float64,\n",
       "    &quot;TruthTausAux::numCharged&quot;: var * uint64,\n",
       "    &quot;TruthTausAux::numChargedPion&quot;: var * uint64,\n",
       "    &quot;TruthTausAux::numNeutral&quot;: var * uint64,\n",
       "    &quot;TruthTausAux::numNeutralPion&quot;: var * uint64,\n",
       "    &quot;TruthTausAux::IsHadronicTau&quot;: var * uint8,\n",
       "    &quot;TruthTausAux::pt_invis&quot;: var * float64,\n",
       "    &quot;TruthTausAux::eta_invis&quot;: var * float64,\n",
       "    &quot;TruthTausAux::phi_invis&quot;: var * float64,\n",
       "    &quot;TruthTausAux::m_invis&quot;: var * float64,\n",
       "    &quot;TruthTausAux::pt_vis_neutral&quot;: var * float64,\n",
       "    &quot;TruthTausAux::eta_vis_neutral&quot;: var * float64,\n",
       "    &quot;TruthTausAux::phi_vis_neutral&quot;: var * float64,\n",
       "    &quot;TruthTausAux::m_vis_neutral&quot;: var * float64,\n",
       "    &quot;TruthTausAux::DecayModeVector&quot;: var * var * int32,\n",
       "    &quot;TruthTausAux::decay_vertex_x&quot;: var * float64,\n",
       "    &quot;TruthTausAux::decay_vertex_y&quot;: var * float64,\n",
       "    &quot;TruthTausAux::decay_vertex_z&quot;: var * float64,\n",
       "    &quot;TruthTausAux::prod_vertex_x&quot;: var * float64,\n",
       "    &quot;TruthTausAux::prod_vertex_y&quot;: var * float64,\n",
       "    &quot;TruthTausAux::prod_vertex_z&quot;: var * float64,\n",
       "    &quot;TruthTausWithDecayParticlesAux::prodVtxLink&quot;: var * {\n",
       "        &quot;:_0&quot;: {\n",
       "            m_persKey: uint32,\n",
       "            m_persIndex: uint32\n",
       "        }\n",
       "    },\n",
       "    &quot;TruthTausWithDecayParticlesAux::decayVtxLink&quot;: var * {\n",
       "        &quot;:_0&quot;: {\n",
       "            m_persKey: uint32,\n",
       "            m_persIndex: uint32\n",
       "        }\n",
       "    },\n",
       "    &quot;TruthTausWithDecayParticlesAux::m&quot;: var * float32,\n",
       "    &quot;TruthTausWithDecayParticlesAux::px&quot;: var * float32,\n",
       "    &quot;TruthTausWithDecayParticlesAux::py&quot;: var * float32,\n",
       "    &quot;TruthTausWithDecayParticlesAux::pz&quot;: var * float32,\n",
       "    &quot;TruthTausWithDecayParticlesAux::e&quot;: var * float32,\n",
       "    &quot;TruthTausWithDecayParticlesAux::pdgId&quot;: var * int32,\n",
       "    &quot;TruthTausWithDecayParticlesAux::classifierParticleOrigin&quot;: var * uint32,\n",
       "    &quot;TruthTausWithDecayParticlesAux::Classification&quot;: var * uint32,\n",
       "    &quot;TruthTausWithDecayParticlesAux::barcode&quot;: var * int32,\n",
       "    &quot;TruthTausWithDecayParticlesAux::status&quot;: var * int32,\n",
       "    &quot;TruthTausWithDecayParticlesAux::classifierParticleType&quot;: var * uint32,\n",
       "    &quot;TruthTausWithDecayParticlesAux::classifierParticleOutCome&quot;: var * uint32,\n",
       "    &quot;TruthTausWithDecayVerticesAux::incomingParticleLinks&quot;: var * var * {\n",
       "        &quot;:_0&quot;: {\n",
       "            m_persKey: uint32,\n",
       "            m_persIndex: uint32\n",
       "        }\n",
       "    },\n",
       "    &quot;TruthTausWithDecayVerticesAux::outgoingParticleLinks&quot;: var * var * {\n",
       "        &quot;:_0&quot;: {\n",
       "            m_persKey: uint32,\n",
       "            m_persIndex: uint32\n",
       "        }\n",
       "    },\n",
       "    &quot;TruthTausWithDecayVerticesAux::barcode&quot;: var * int32,\n",
       "    &quot;TruthTausWithDecayVerticesAux::id&quot;: var * int32,\n",
       "    &quot;TruthTausWithDecayVerticesAux::x&quot;: var * float32,\n",
       "    &quot;TruthTausWithDecayVerticesAux::y&quot;: var * float32,\n",
       "    &quot;TruthTausWithDecayVerticesAux::z&quot;: var * float32,\n",
       "    &quot;TruthTausWithDecayVerticesAux::t&quot;: var * float32\n",
       "}</pre>"
      ],
      "text/plain": [
       "<Array [{index_ref: ..., ...}, ..., {...}] type='10 * {index_ref: uint64, \"...'>"
      ]
     },
     "execution_count": 107,
     "metadata": {},
     "output_type": "execute_result"
    }
   ],
   "source": [
    "arrays = ntpl.arrays()\n",
    "arrays"
   ]
  },
  {
   "cell_type": "markdown",
   "id": "d6f4049b-3311-443b-b873-93d2b650d41a",
   "metadata": {
    "editable": true,
    "slideshow": {
     "slide_type": "skip"
    },
    "tags": []
   },
   "source": [
    " "
   ]
  },
  {
   "cell_type": "markdown",
   "id": "3a3f9ba9-0744-4d4d-b2a9-6206e69be2e6",
   "metadata": {
    "editable": true,
    "slideshow": {
     "slide_type": "slide"
    },
    "tags": []
   },
   "source": [
    "### We also have good performance when reading large(-ish) files\n",
    "### (more on this later)\n",
    "\n",
    "Here is an example with a ~100 MB file."
   ]
  },
  {
   "cell_type": "code",
   "execution_count": 108,
   "id": "3c7de07e-2d8d-467e-a9f7-ce85c81365a0",
   "metadata": {
    "editable": true,
    "slideshow": {
     "slide_type": ""
    },
    "tags": []
   },
   "outputs": [],
   "source": [
    "url = \"http://root.cern/files/tutorials/ntpl004_dimuon_v1rc2.root\"\n",
    "\n",
    "# When not using WASM we can read the file directly\n",
    "# f = uproot.open(f\"simplecache::{url}\")\n",
    "\n",
    "# For WASM we need some workarounds\n",
    "#import requests\n",
    "#r = requests.get(f\"https://corsproxy.io/?{url}\") # Please be careful when using a CORS proxy\n",
    "#open(\"ntpl004_dimuon_v1rc2.root\", \"wb\").write(r.content)\n",
    "f = uproot.open(\"ntpl004_dimuon_v1rc2.root\")"
   ]
  },
  {
   "cell_type": "code",
   "execution_count": 109,
   "id": "b63b5c19-d84f-491a-9622-2d3d5f6fc1f3",
   "metadata": {
    "editable": true,
    "slideshow": {
     "slide_type": "fragment"
    },
    "tags": []
   },
   "outputs": [
    {
     "data": {
      "text/plain": [
       "{'Events;1': 'ROOT::Experimental::RNTuple'}"
      ]
     },
     "execution_count": 109,
     "metadata": {},
     "output_type": "execute_result"
    }
   ],
   "source": [
    "f.classnames()"
   ]
  },
  {
   "cell_type": "code",
   "execution_count": 111,
   "id": "65757acb-1c47-42f4-9198-1a89267b3aa3",
   "metadata": {
    "editable": true,
    "slideshow": {
     "slide_type": "fragment"
    },
    "tags": []
   },
   "outputs": [
    {
     "data": {
      "text/html": [
       "<pre>[{Muon_pt: [10.8, 15.7], Muon_eta: [1.07, -0.564], Muon_phi: [...], ...},\n",
       " {Muon_pt: [10.5, 16.3], Muon_eta: [-0.428, ...], Muon_phi: [...], ...},\n",
       " {Muon_pt: [3.28], Muon_eta: [2.21], Muon_phi: [-1.22], Muon_mass: ..., ...},\n",
       " {Muon_pt: [11.4, 17.6, 9.62, 3.5], Muon_eta: [-1.59, ...], Muon_phi: ..., ...},\n",
       " {Muon_pt: [3.28, 3.64, 32.9, 23.7], Muon_eta: [-2.17, ...], ...},\n",
       " {Muon_pt: [3.57, 4.57, 4.37], Muon_eta: [-1.37, ...], Muon_phi: [...], ...},\n",
       " {Muon_pt: [57.6, 53], Muon_eta: [-0.532, -1], Muon_phi: [...], ...},\n",
       " {Muon_pt: [11.3, 23.9], Muon_eta: [-0.772, ...], Muon_phi: [...], ...},\n",
       " {Muon_pt: [10.2, 14.2], Muon_eta: [0.442, 0.702], Muon_phi: [...], ...},\n",
       " {Muon_pt: [11.5, 3.47], Muon_eta: [2.34, 2.35], Muon_phi: [...], ...},\n",
       " ...,\n",
       " {Muon_pt: [8.18, 3.79], Muon_eta: [-2.31, 1.18], Muon_phi: [...], ...},\n",
       " {Muon_pt: [34, 22.1, 3.55], Muon_eta: [-1.59, ...], Muon_phi: [...], ...},\n",
       " {Muon_pt: [10, 35.5], Muon_eta: [0.329, 0.879], Muon_phi: [...], ...},\n",
       " {Muon_pt: [41.4, 41.2], Muon_eta: [-1.49, -2.21], Muon_phi: [...], ...},\n",
       " {Muon_pt: [131, 115], Muon_eta: [-0.281, ...], Muon_phi: [...], ...},\n",
       " {Muon_pt: [8.43, 35.8, 5.02], Muon_eta: [-0.414, ...], Muon_phi: [...], ...},\n",
       " {Muon_pt: [20.8, 9.48], Muon_eta: [-0.936, ...], Muon_phi: [...], ...},\n",
       " {Muon_pt: [6.99, 5.64, 7.24, 5.01], Muon_eta: [-1.77, ...], ...},\n",
       " {Muon_pt: [11.1, 20.1], Muon_eta: [1.24, 1.45], Muon_phi: [...], ...}]\n",
       "--------------------------------------------------------------------------------\n",
       "type: 4000000 * {\n",
       "    Muon_pt: var * float32,\n",
       "    Muon_eta: var * float32,\n",
       "    Muon_phi: var * float32,\n",
       "    Muon_mass: var * float32,\n",
       "    Muon_charge: var * int32,\n",
       "    nMuon: uint64\n",
       "}</pre>"
      ],
      "text/plain": [
       "<Array [{Muon_pt: [...], ...}, ..., {...}] type='4000000 * {Muon_pt: var * ...'>"
      ]
     },
     "execution_count": 111,
     "metadata": {},
     "output_type": "execute_result"
    }
   ],
   "source": [
    "ntpl = f[\"Events\"]\n",
    "arrays = ntpl.arrays()\n",
    "arrays"
   ]
  },
  {
   "cell_type": "markdown",
   "id": "56bae89a-ff20-464f-957f-2cfabb0383ca",
   "metadata": {
    "editable": true,
    "slideshow": {
     "slide_type": "slide"
    },
    "tags": []
   },
   "source": [
    "### Interactions with Scikit-HEP ecosystem remain unchanged"
   ]
  },
  {
   "cell_type": "code",
   "execution_count": 139,
   "id": "08c125e4-2cdc-4428-b9b7-754c0330a4b3",
   "metadata": {
    "editable": true,
    "slideshow": {
     "slide_type": "fragment"
    },
    "tags": []
   },
   "outputs": [
    {
     "data": {
      "image/png": "[encoded data removed]",
      "text/plain": [
       "<Figure size 640x480 with 1 Axes>"
      ]
     },
     "metadata": {},
     "output_type": "display_data"
    }
   ],
   "source": [
    "import awkward as ak\n",
    "from hist import Hist\n",
    "\n",
    "h = Hist.new.Regular(50, 0, 70, name=\"pt\", label=\"Muon $p_T$\").Double()\n",
    "h.fill(pt=ak.flatten(arrays.Muon_pt))\n",
    "h.plot();"
   ]
  },
  {
   "cell_type": "markdown",
   "id": "bc646947-938f-48dd-9225-391a46ba057e",
   "metadata": {
    "editable": true,
    "slideshow": {
     "slide_type": "slide"
    },
    "tags": []
   },
   "source": [
    "## Future work and outlook"
   ]
  },
  {
   "cell_type": "markdown",
   "id": "8d4b457d-adc0-4fbc-89d6-96f0a289f462",
   "metadata": {
    "editable": true,
    "slideshow": {
     "slide_type": "fragment"
    },
    "tags": []
   },
   "source": [
    "- Although `RNTuple` reading already works, there is still a significant amount of work that needs to be done."
   ]
  },
  {
   "cell_type": "markdown",
   "id": "8b22f295-f896-4d11-b1c0-54bbf15253e7",
   "metadata": {
    "editable": true,
    "slideshow": {
     "slide_type": "fragment"
    },
    "tags": []
   },
   "source": [
    "- Lazy-reading will be implemented with `dask`, just how it has been done for `TTree`."
   ]
  },
  {
   "cell_type": "markdown",
   "id": "ff249e46-b723-4561-981d-995db1403853",
   "metadata": {
    "editable": true,
    "slideshow": {
     "slide_type": "fragment"
    },
    "tags": []
   },
   "source": [
    "- `RNTuple` writing needs to be fixed and likely heavily rewritten."
   ]
  },
  {
   "cell_type": "markdown",
   "id": "234215af-68cf-4240-8841-f8bf8ebd1c4a",
   "metadata": {
    "editable": true,
    "slideshow": {
     "slide_type": "fragment"
    },
    "tags": []
   },
   "source": [
    "- We are aiming to keep up to date with changes in `RNTuple` spec and be ready for v1.0.0."
   ]
  },
  {
   "cell_type": "markdown",
   "id": "9275f0ba-5abb-4c78-89b3-b9cc88472478",
   "metadata": {
    "editable": true,
    "slideshow": {
     "slide_type": "fragment"
    },
    "tags": []
   },
   "source": [
    "- `uproot` will become even more useful since it should support almost 100% of the `RNTuple` spec, and so should be almost equivalent to `ROOT` for reading and writing.\n",
    "\n",
    "<center><img src=\"images/rntuple_goal.svg\" style=\"height:400px;\"/></center>"
   ]
  },
  {
   "cell_type": "code",
   "execution_count": null,
   "id": "17fb3f71-daa6-4aa0-b622-70322c190a1b",
   "metadata": {
    "editable": true,
    "slideshow": {
     "slide_type": ""
    },
    "tags": []
   },
   "outputs": [],
   "source": []
  },
  {
   "cell_type": "code",
   "execution_count": null,
   "id": "babf064b-50ef-4983-8c98-4e88e94c9381",
   "metadata": {
    "editable": true,
    "slideshow": {
     "slide_type": ""
    },
    "tags": []
   },
   "outputs": [],
   "source": []
  }
 ],
 "metadata": {
  "kernelspec": {
   "display_name": "Python 3 (ipykernel)",
   "language": "python",
   "name": "python3"
  },
  "language_info": {
   "codemirror_mode": {
    "name": "ipython",
    "version": 3
   },
   "file_extension": ".py",
   "mimetype": "text/x-python",
   "name": "python",
   "nbconvert_exporter": "python",
   "pygments_lexer": "ipython3",
   "version": "3.11.7"
  }
 },
 "nbformat": 4,
 "nbformat_minor": 5
}
